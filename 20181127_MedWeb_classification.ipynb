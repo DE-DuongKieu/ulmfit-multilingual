{
 "cells": [
  {
   "cell_type": "code",
   "execution_count": 194,
   "metadata": {},
   "outputs": [],
   "source": [
    "\"\"\"\n",
    "Train a classifier on top of a language model trained with `pretrain_lm.py`.\n",
    "Optionally fine-tune LM before.\n",
    "\"\"\"\n",
    "import numpy as np\n",
    "import pickle\n",
    "\n",
    "import torch\n",
    "import torch.nn.functional as F\n",
    "from fastai.text import TextLMDataBunch, TextClasDataBunch, language_model_learner, text_classifier_learner, LanguageLearner\n",
    "from fastai import fit_one_cycle\n",
    "from fastai_contrib.utils import PAD, UNK, read_clas_data, PAD_TOKEN_ID, DATASETS, TRN, VAL, TST, ensure_paths_exists, get_sentencepiece\n",
    "from fastai.text.transform import Vocab\n",
    "from fastai.metrics import accuracy, accuracy_thresh, fbeta\n",
    "\n",
    "import fire\n",
    "from collections import Counter\n",
    "from pathlib import Path\n",
    "\n",
    "import pandas as pd\n",
    "import csv\n",
    "from functools import partial"
   ]
  },
  {
   "cell_type": "code",
   "execution_count": 2,
   "metadata": {},
   "outputs": [],
   "source": [
    "%load_ext autoreload\n",
    "%autoreload 2"
   ]
  },
  {
   "cell_type": "markdown",
   "metadata": {},
   "source": [
    "# NTCIR-13 MedWeb\n",
    "http://research.nii.ac.jp/ntcir/permission/ntcir-13/perm-ja-MedWeb.html"
   ]
  },
  {
   "cell_type": "markdown",
   "metadata": {},
   "source": [
    "## copy data"
   ]
  },
  {
   "cell_type": "code",
   "execution_count": 3,
   "metadata": {},
   "outputs": [
    {
     "name": "stdout",
     "output_type": "stream",
     "text": [
      "NTCIR-13_MedWeb_en_test.xlsx\t  NTCIR-13_MedWeb_ja_training.xlsx  readme.txt\r\n",
      "NTCIR-13_MedWeb_en_training.xlsx  NTCIR-13_MedWeb_zh_test.xlsx\r\n",
      "NTCIR-13_MedWeb_ja_test.xlsx\t  NTCIR-13_MedWeb_zh_training.xlsx\r\n"
     ]
    }
   ],
   "source": [
    "!ls /home/ubuntu/dev/download/data/MedWeb_TestCollection/"
   ]
  },
  {
   "cell_type": "code",
   "execution_count": 4,
   "metadata": {},
   "outputs": [
    {
     "name": "stdout",
     "output_type": "stream",
     "text": [
      "NTCIR-13 MedWeb task: Test set\r\n",
      "\r\n",
      "Training data\r\n",
      "-MedWeb Japanese subtask train data: NTCIR-13_MedWeb_ja_training.xlsx\r\n",
      "-MedWeb English subtask train data: NTCIR-13_MedWeb_en_training.xlsx\r\n",
      "-MedWeb Chinese subtask train data: NTCIR-13_MedWeb_zh_training.xlsx\r\n",
      "\r\n",
      "Test data\r\n",
      "-MedWeb Japanese subtask test data: NTCIR-13_MedWeb_ja_test.xlsx\r\n",
      "-MedWeb English subtask test data: NTCIR-13_MedWeb_en_test.xlsx\r\n",
      "-MedWeb Chinese subtask test data: NTCIR-13_MedWeb_zh_test.xlsx\r\n",
      "\r\n",
      "\r\n",
      "Columns in each sheet are as follows. \r\n",
      "ID: Pseudo tweet ID that corresponds to the corpora of other language (e.g., the tweet of ``1en'' corresponds to the tweets of ``1ja'' and ``1zh'') \r\n",
      "Tweet: Pseudo tweet message \r\n",
      "Influenza: P (Positive) / N (Negative)\r\n",
      "Diarrhea: P (Positive) / N (Negative)\r\n",
      "Hayfever: P (Positive) / N (Negative)\r\n",
      "Cough: P (Positive) / N (Negative)\r\n",
      "Headache: P (Positive) / N (Negative)\r\n",
      "Fever: P (Positive) / N (Negative)\r\n",
      "Runnynose: P (Positive) / N (Negative)\r\n",
      "Cold: P (Positive) / N (Negative)\r\n",
      "\r\n",
      "For details, please refer to the MedWeb website (http://mednlp.jp/medweb/NTCIR-13/) and the “Overview of the NTCIR-13 MedWeb Task” in the NTCIR Online Proceedings.\r\n",
      "\r\n",
      "Shoko Wakamiya, Mizuki Morita, Yoshinobu Kano, Tomoko Ohkuma, Eiji Aramaki, Overview of the NTCIR-13: MedWeb Task, In Proceedings of the 13th NTCIR Conference, 2017."
     ]
    }
   ],
   "source": [
    "!cat /home/ubuntu/dev/download/data/MedWeb_TestCollection/readme.txt"
   ]
  },
  {
   "cell_type": "code",
   "execution_count": 5,
   "metadata": {},
   "outputs": [],
   "source": [
    "!mkdir -p data/MedWeb"
   ]
  },
  {
   "cell_type": "code",
   "execution_count": 6,
   "metadata": {},
   "outputs": [],
   "source": [
    "!cp /home/ubuntu/dev/download/data/MedWeb_TestCollection/*ja* data/MedWeb/"
   ]
  },
  {
   "cell_type": "code",
   "execution_count": 7,
   "metadata": {},
   "outputs": [
    {
     "name": "stdout",
     "output_type": "stream",
     "text": [
      "lbl_names.pkl\t\t      NTCIR-13_MedWeb_ja_training.xlsx\ttrain.csv\r\n",
      "NTCIR-13_MedWeb_ja_test.xlsx  tmp\t\t\t\tvalid.csv\r\n"
     ]
    }
   ],
   "source": [
    "!ls data/MedWeb/"
   ]
  },
  {
   "cell_type": "markdown",
   "metadata": {},
   "source": [
    "## read data"
   ]
  },
  {
   "cell_type": "markdown",
   "metadata": {},
   "source": [
    "### train"
   ]
  },
  {
   "cell_type": "code",
   "execution_count": 8,
   "metadata": {},
   "outputs": [],
   "source": [
    "trn = pd.read_excel('data/MedWeb/NTCIR-13_MedWeb_ja_training.xlsx',sheet_name='ja_train')"
   ]
  },
  {
   "cell_type": "code",
   "execution_count": 9,
   "metadata": {},
   "outputs": [
    {
     "data": {
      "text/html": [
       "<div>\n",
       "<style scoped>\n",
       "    .dataframe tbody tr th:only-of-type {\n",
       "        vertical-align: middle;\n",
       "    }\n",
       "\n",
       "    .dataframe tbody tr th {\n",
       "        vertical-align: top;\n",
       "    }\n",
       "\n",
       "    .dataframe thead th {\n",
       "        text-align: right;\n",
       "    }\n",
       "</style>\n",
       "<table border=\"1\" class=\"dataframe\">\n",
       "  <thead>\n",
       "    <tr style=\"text-align: right;\">\n",
       "      <th></th>\n",
       "      <th>ID</th>\n",
       "      <th>Tweet</th>\n",
       "      <th>Influenza</th>\n",
       "      <th>Diarrhea</th>\n",
       "      <th>Hayfever</th>\n",
       "      <th>Cough</th>\n",
       "      <th>Headache</th>\n",
       "      <th>Fever</th>\n",
       "      <th>Runnynose</th>\n",
       "      <th>Cold</th>\n",
       "    </tr>\n",
       "  </thead>\n",
       "  <tbody>\n",
       "    <tr>\n",
       "      <th>0</th>\n",
       "      <td>1ja</td>\n",
       "      <td>風邪を引くと全身がだるくなる。</td>\n",
       "      <td>n</td>\n",
       "      <td>n</td>\n",
       "      <td>n</td>\n",
       "      <td>n</td>\n",
       "      <td>n</td>\n",
       "      <td>n</td>\n",
       "      <td>n</td>\n",
       "      <td>p</td>\n",
       "    </tr>\n",
       "    <tr>\n",
       "      <th>1</th>\n",
       "      <td>2ja</td>\n",
       "      <td>花粉症の症状が出てきたのは久し振りだ。</td>\n",
       "      <td>n</td>\n",
       "      <td>n</td>\n",
       "      <td>p</td>\n",
       "      <td>n</td>\n",
       "      <td>n</td>\n",
       "      <td>n</td>\n",
       "      <td>p</td>\n",
       "      <td>n</td>\n",
       "    </tr>\n",
       "    <tr>\n",
       "      <th>2</th>\n",
       "      <td>3ja</td>\n",
       "      <td>花粉症のせいでずっと微熱でぼーっとしてる。眠い。</td>\n",
       "      <td>n</td>\n",
       "      <td>n</td>\n",
       "      <td>p</td>\n",
       "      <td>n</td>\n",
       "      <td>n</td>\n",
       "      <td>p</td>\n",
       "      <td>p</td>\n",
       "      <td>n</td>\n",
       "    </tr>\n",
       "    <tr>\n",
       "      <th>3</th>\n",
       "      <td>4ja</td>\n",
       "      <td>薬飲んだけど鼻水おさまる気配なし</td>\n",
       "      <td>n</td>\n",
       "      <td>n</td>\n",
       "      <td>n</td>\n",
       "      <td>n</td>\n",
       "      <td>n</td>\n",
       "      <td>n</td>\n",
       "      <td>p</td>\n",
       "      <td>n</td>\n",
       "    </tr>\n",
       "    <tr>\n",
       "      <th>4</th>\n",
       "      <td>5ja</td>\n",
       "      <td>ネパールに旅行に行った際に下痢になって大変だったよ。</td>\n",
       "      <td>n</td>\n",
       "      <td>n</td>\n",
       "      <td>n</td>\n",
       "      <td>n</td>\n",
       "      <td>n</td>\n",
       "      <td>n</td>\n",
       "      <td>n</td>\n",
       "      <td>n</td>\n",
       "    </tr>\n",
       "    <tr>\n",
       "      <th>5</th>\n",
       "      <td>6ja</td>\n",
       "      <td>咳くらいで休むのはゆとりだけだろ。どんなときでも仕事にでるのは大事だ。</td>\n",
       "      <td>n</td>\n",
       "      <td>n</td>\n",
       "      <td>n</td>\n",
       "      <td>p</td>\n",
       "      <td>n</td>\n",
       "      <td>n</td>\n",
       "      <td>n</td>\n",
       "      <td>n</td>\n",
       "    </tr>\n",
       "    <tr>\n",
       "      <th>6</th>\n",
       "      <td>7ja</td>\n",
       "      <td>鼻づまりで今日は休むわー</td>\n",
       "      <td>n</td>\n",
       "      <td>n</td>\n",
       "      <td>n</td>\n",
       "      <td>n</td>\n",
       "      <td>n</td>\n",
       "      <td>n</td>\n",
       "      <td>p</td>\n",
       "      <td>n</td>\n",
       "    </tr>\n",
       "    <tr>\n",
       "      <th>7</th>\n",
       "      <td>8ja</td>\n",
       "      <td>まさか花粉症になるとは。</td>\n",
       "      <td>n</td>\n",
       "      <td>n</td>\n",
       "      <td>p</td>\n",
       "      <td>n</td>\n",
       "      <td>n</td>\n",
       "      <td>n</td>\n",
       "      <td>p</td>\n",
       "      <td>n</td>\n",
       "    </tr>\n",
       "    <tr>\n",
       "      <th>8</th>\n",
       "      <td>9ja</td>\n",
       "      <td>熱は出てるけどお腹に来る風邪じゃなさそう。</td>\n",
       "      <td>n</td>\n",
       "      <td>n</td>\n",
       "      <td>n</td>\n",
       "      <td>n</td>\n",
       "      <td>n</td>\n",
       "      <td>p</td>\n",
       "      <td>n</td>\n",
       "      <td>p</td>\n",
       "    </tr>\n",
       "    <tr>\n",
       "      <th>9</th>\n",
       "      <td>10ja</td>\n",
       "      <td>痰に血が混じってきもい</td>\n",
       "      <td>n</td>\n",
       "      <td>n</td>\n",
       "      <td>n</td>\n",
       "      <td>p</td>\n",
       "      <td>n</td>\n",
       "      <td>n</td>\n",
       "      <td>n</td>\n",
       "      <td>n</td>\n",
       "    </tr>\n",
       "    <tr>\n",
       "      <th>10</th>\n",
       "      <td>11ja</td>\n",
       "      <td>来春は花粉が少ないとか言われても、秋の花粉症のほうが重症な私には関係ない。</td>\n",
       "      <td>n</td>\n",
       "      <td>n</td>\n",
       "      <td>n</td>\n",
       "      <td>n</td>\n",
       "      <td>n</td>\n",
       "      <td>n</td>\n",
       "      <td>n</td>\n",
       "      <td>n</td>\n",
       "    </tr>\n",
       "    <tr>\n",
       "      <th>11</th>\n",
       "      <td>12ja</td>\n",
       "      <td>あかん。咳込みすぎて頭まで痛くなってきた</td>\n",
       "      <td>n</td>\n",
       "      <td>n</td>\n",
       "      <td>n</td>\n",
       "      <td>p</td>\n",
       "      <td>p</td>\n",
       "      <td>n</td>\n",
       "      <td>n</td>\n",
       "      <td>n</td>\n",
       "    </tr>\n",
       "    <tr>\n",
       "      <th>12</th>\n",
       "      <td>13ja</td>\n",
       "      <td>微熱が出たから風邪かなって思ったら花粉症だった、花粉症でも熱出るって知らんかった</td>\n",
       "      <td>n</td>\n",
       "      <td>n</td>\n",
       "      <td>p</td>\n",
       "      <td>n</td>\n",
       "      <td>n</td>\n",
       "      <td>p</td>\n",
       "      <td>p</td>\n",
       "      <td>p</td>\n",
       "    </tr>\n",
       "    <tr>\n",
       "      <th>13</th>\n",
       "      <td>14ja</td>\n",
       "      <td>インフルエンザのワクチン打ちに行ってきた。</td>\n",
       "      <td>n</td>\n",
       "      <td>n</td>\n",
       "      <td>n</td>\n",
       "      <td>n</td>\n",
       "      <td>n</td>\n",
       "      <td>n</td>\n",
       "      <td>n</td>\n",
       "      <td>n</td>\n",
       "    </tr>\n",
       "    <tr>\n",
       "      <th>14</th>\n",
       "      <td>15ja</td>\n",
       "      <td>頭痛がやばいから帰宅して寝るー</td>\n",
       "      <td>n</td>\n",
       "      <td>n</td>\n",
       "      <td>n</td>\n",
       "      <td>n</td>\n",
       "      <td>p</td>\n",
       "      <td>n</td>\n",
       "      <td>n</td>\n",
       "      <td>n</td>\n",
       "    </tr>\n",
       "    <tr>\n",
       "      <th>15</th>\n",
       "      <td>16ja</td>\n",
       "      <td>風邪もりっぱな病気の１つ。</td>\n",
       "      <td>n</td>\n",
       "      <td>n</td>\n",
       "      <td>n</td>\n",
       "      <td>n</td>\n",
       "      <td>n</td>\n",
       "      <td>n</td>\n",
       "      <td>n</td>\n",
       "      <td>n</td>\n",
       "    </tr>\n",
       "    <tr>\n",
       "      <th>16</th>\n",
       "      <td>17ja</td>\n",
       "      <td>サッカーの試合観戦のため、ネパールに行っている間中下痢に苦しんだ。</td>\n",
       "      <td>n</td>\n",
       "      <td>n</td>\n",
       "      <td>n</td>\n",
       "      <td>n</td>\n",
       "      <td>n</td>\n",
       "      <td>n</td>\n",
       "      <td>n</td>\n",
       "      <td>n</td>\n",
       "    </tr>\n",
       "    <tr>\n",
       "      <th>17</th>\n",
       "      <td>18ja</td>\n",
       "      <td>痰抑える方法ないかな。</td>\n",
       "      <td>n</td>\n",
       "      <td>n</td>\n",
       "      <td>n</td>\n",
       "      <td>p</td>\n",
       "      <td>n</td>\n",
       "      <td>n</td>\n",
       "      <td>n</td>\n",
       "      <td>n</td>\n",
       "    </tr>\n",
       "    <tr>\n",
       "      <th>18</th>\n",
       "      <td>19ja</td>\n",
       "      <td>最悪だー風邪ひいたー。頭がぼーっとする。</td>\n",
       "      <td>n</td>\n",
       "      <td>n</td>\n",
       "      <td>n</td>\n",
       "      <td>n</td>\n",
       "      <td>n</td>\n",
       "      <td>n</td>\n",
       "      <td>n</td>\n",
       "      <td>p</td>\n",
       "    </tr>\n",
       "    <tr>\n",
       "      <th>19</th>\n",
       "      <td>20ja</td>\n",
       "      <td>犬のブログを通じて知り合った人が鼻づまりで息ができず苦しいらしい。たかが鼻水だけの鼻風邪と侮...</td>\n",
       "      <td>n</td>\n",
       "      <td>n</td>\n",
       "      <td>n</td>\n",
       "      <td>n</td>\n",
       "      <td>n</td>\n",
       "      <td>n</td>\n",
       "      <td>n</td>\n",
       "      <td>n</td>\n",
       "    </tr>\n",
       "    <tr>\n",
       "      <th>20</th>\n",
       "      <td>21ja</td>\n",
       "      <td>風邪だから薬を飲んでいるけど、副作用のせいで眠い。休めるなら休めばよかった・・・</td>\n",
       "      <td>n</td>\n",
       "      <td>n</td>\n",
       "      <td>n</td>\n",
       "      <td>n</td>\n",
       "      <td>n</td>\n",
       "      <td>n</td>\n",
       "      <td>n</td>\n",
       "      <td>p</td>\n",
       "    </tr>\n",
       "    <tr>\n",
       "      <th>21</th>\n",
       "      <td>22ja</td>\n",
       "      <td>痰が出てるから熱計ってみたら、高熱だった。</td>\n",
       "      <td>n</td>\n",
       "      <td>n</td>\n",
       "      <td>n</td>\n",
       "      <td>p</td>\n",
       "      <td>n</td>\n",
       "      <td>p</td>\n",
       "      <td>n</td>\n",
       "      <td>n</td>\n",
       "    </tr>\n",
       "    <tr>\n",
       "      <th>22</th>\n",
       "      <td>23ja</td>\n",
       "      <td>花粉症だと思っていたのにまさかの微熱。風邪かもしれない。</td>\n",
       "      <td>n</td>\n",
       "      <td>n</td>\n",
       "      <td>p</td>\n",
       "      <td>n</td>\n",
       "      <td>n</td>\n",
       "      <td>p</td>\n",
       "      <td>p</td>\n",
       "      <td>p</td>\n",
       "    </tr>\n",
       "    <tr>\n",
       "      <th>23</th>\n",
       "      <td>24ja</td>\n",
       "      <td>朝から頭痛がやばい。昨日飲みすぎたのかな。</td>\n",
       "      <td>n</td>\n",
       "      <td>n</td>\n",
       "      <td>n</td>\n",
       "      <td>n</td>\n",
       "      <td>p</td>\n",
       "      <td>n</td>\n",
       "      <td>n</td>\n",
       "      <td>n</td>\n",
       "    </tr>\n",
       "    <tr>\n",
       "      <th>24</th>\n",
       "      <td>25ja</td>\n",
       "      <td>スペイン風邪ってのが昔流行った。</td>\n",
       "      <td>n</td>\n",
       "      <td>n</td>\n",
       "      <td>n</td>\n",
       "      <td>n</td>\n",
       "      <td>n</td>\n",
       "      <td>n</td>\n",
       "      <td>n</td>\n",
       "      <td>n</td>\n",
       "    </tr>\n",
       "    <tr>\n",
       "      <th>25</th>\n",
       "      <td>26ja</td>\n",
       "      <td>風邪と頭痛で頭がぼーっとする。</td>\n",
       "      <td>n</td>\n",
       "      <td>n</td>\n",
       "      <td>n</td>\n",
       "      <td>n</td>\n",
       "      <td>p</td>\n",
       "      <td>n</td>\n",
       "      <td>n</td>\n",
       "      <td>p</td>\n",
       "    </tr>\n",
       "    <tr>\n",
       "      <th>26</th>\n",
       "      <td>27ja</td>\n",
       "      <td>今年二回目のインフルになったんだけど、これって原発事故による放射能で体力落ちちゃったのが原因...</td>\n",
       "      <td>p</td>\n",
       "      <td>n</td>\n",
       "      <td>n</td>\n",
       "      <td>n</td>\n",
       "      <td>n</td>\n",
       "      <td>p</td>\n",
       "      <td>n</td>\n",
       "      <td>n</td>\n",
       "    </tr>\n",
       "    <tr>\n",
       "      <th>27</th>\n",
       "      <td>28ja</td>\n",
       "      <td>下痢ひどすぎで笑うわ</td>\n",
       "      <td>n</td>\n",
       "      <td>p</td>\n",
       "      <td>n</td>\n",
       "      <td>n</td>\n",
       "      <td>n</td>\n",
       "      <td>n</td>\n",
       "      <td>n</td>\n",
       "      <td>n</td>\n",
       "    </tr>\n",
       "    <tr>\n",
       "      <th>28</th>\n",
       "      <td>29ja</td>\n",
       "      <td>きつい頭痛が襲っている僕は今どこにいるんだろう？</td>\n",
       "      <td>n</td>\n",
       "      <td>n</td>\n",
       "      <td>n</td>\n",
       "      <td>n</td>\n",
       "      <td>p</td>\n",
       "      <td>n</td>\n",
       "      <td>n</td>\n",
       "      <td>n</td>\n",
       "    </tr>\n",
       "    <tr>\n",
       "      <th>29</th>\n",
       "      <td>30ja</td>\n",
       "      <td>この契約が上手くいかないのは頭痛の種でしかない。</td>\n",
       "      <td>n</td>\n",
       "      <td>n</td>\n",
       "      <td>n</td>\n",
       "      <td>n</td>\n",
       "      <td>n</td>\n",
       "      <td>n</td>\n",
       "      <td>n</td>\n",
       "      <td>n</td>\n",
       "    </tr>\n",
       "    <tr>\n",
       "      <th>...</th>\n",
       "      <td>...</td>\n",
       "      <td>...</td>\n",
       "      <td>...</td>\n",
       "      <td>...</td>\n",
       "      <td>...</td>\n",
       "      <td>...</td>\n",
       "      <td>...</td>\n",
       "      <td>...</td>\n",
       "      <td>...</td>\n",
       "      <td>...</td>\n",
       "    </tr>\n",
       "    <tr>\n",
       "      <th>70</th>\n",
       "      <td>71ja</td>\n",
       "      <td>うーん、このタイミングで風邪とか最悪だ。</td>\n",
       "      <td>n</td>\n",
       "      <td>n</td>\n",
       "      <td>n</td>\n",
       "      <td>n</td>\n",
       "      <td>n</td>\n",
       "      <td>n</td>\n",
       "      <td>n</td>\n",
       "      <td>p</td>\n",
       "    </tr>\n",
       "    <tr>\n",
       "      <th>71</th>\n",
       "      <td>72ja</td>\n",
       "      <td>担任がインフルという危機的な状況。</td>\n",
       "      <td>p</td>\n",
       "      <td>n</td>\n",
       "      <td>n</td>\n",
       "      <td>n</td>\n",
       "      <td>n</td>\n",
       "      <td>p</td>\n",
       "      <td>n</td>\n",
       "      <td>n</td>\n",
       "    </tr>\n",
       "    <tr>\n",
       "      <th>72</th>\n",
       "      <td>73ja</td>\n",
       "      <td>だるいと思ったけど、頭痛がしてきた</td>\n",
       "      <td>n</td>\n",
       "      <td>n</td>\n",
       "      <td>n</td>\n",
       "      <td>n</td>\n",
       "      <td>p</td>\n",
       "      <td>n</td>\n",
       "      <td>n</td>\n",
       "      <td>n</td>\n",
       "    </tr>\n",
       "    <tr>\n",
       "      <th>73</th>\n",
       "      <td>74ja</td>\n",
       "      <td>指数関数的に風邪患者が増えているらしい。</td>\n",
       "      <td>n</td>\n",
       "      <td>n</td>\n",
       "      <td>n</td>\n",
       "      <td>n</td>\n",
       "      <td>n</td>\n",
       "      <td>n</td>\n",
       "      <td>n</td>\n",
       "      <td>n</td>\n",
       "    </tr>\n",
       "    <tr>\n",
       "      <th>74</th>\n",
       "      <td>75ja</td>\n",
       "      <td>朝起きて、いきなり頭痛はやばいだろ。</td>\n",
       "      <td>n</td>\n",
       "      <td>n</td>\n",
       "      <td>n</td>\n",
       "      <td>n</td>\n",
       "      <td>p</td>\n",
       "      <td>n</td>\n",
       "      <td>n</td>\n",
       "      <td>n</td>\n",
       "    </tr>\n",
       "    <tr>\n",
       "      <th>75</th>\n",
       "      <td>76ja</td>\n",
       "      <td>今回風邪ひいたのは家族の中で私が最初だった。</td>\n",
       "      <td>n</td>\n",
       "      <td>n</td>\n",
       "      <td>n</td>\n",
       "      <td>n</td>\n",
       "      <td>n</td>\n",
       "      <td>n</td>\n",
       "      <td>n</td>\n",
       "      <td>p</td>\n",
       "    </tr>\n",
       "    <tr>\n",
       "      <th>76</th>\n",
       "      <td>77ja</td>\n",
       "      <td>鼻風邪がつらかったから、柔らかいティッシュが嬉しい。</td>\n",
       "      <td>n</td>\n",
       "      <td>n</td>\n",
       "      <td>n</td>\n",
       "      <td>n</td>\n",
       "      <td>n</td>\n",
       "      <td>n</td>\n",
       "      <td>p</td>\n",
       "      <td>p</td>\n",
       "    </tr>\n",
       "    <tr>\n",
       "      <th>77</th>\n",
       "      <td>78ja</td>\n",
       "      <td>激しい頭痛だけど、医者に断られた</td>\n",
       "      <td>n</td>\n",
       "      <td>n</td>\n",
       "      <td>n</td>\n",
       "      <td>n</td>\n",
       "      <td>p</td>\n",
       "      <td>n</td>\n",
       "      <td>n</td>\n",
       "      <td>n</td>\n",
       "    </tr>\n",
       "    <tr>\n",
       "      <th>78</th>\n",
       "      <td>79ja</td>\n",
       "      <td>最近ちょっとお腹痛い、下痢気味です。</td>\n",
       "      <td>n</td>\n",
       "      <td>p</td>\n",
       "      <td>n</td>\n",
       "      <td>n</td>\n",
       "      <td>n</td>\n",
       "      <td>n</td>\n",
       "      <td>n</td>\n",
       "      <td>n</td>\n",
       "    </tr>\n",
       "    <tr>\n",
       "      <th>79</th>\n",
       "      <td>80ja</td>\n",
       "      <td>犬も鼻づまりになるんだ。</td>\n",
       "      <td>n</td>\n",
       "      <td>n</td>\n",
       "      <td>n</td>\n",
       "      <td>n</td>\n",
       "      <td>n</td>\n",
       "      <td>n</td>\n",
       "      <td>n</td>\n",
       "      <td>n</td>\n",
       "    </tr>\n",
       "    <tr>\n",
       "      <th>80</th>\n",
       "      <td>81ja</td>\n",
       "      <td>痰を抑える食べ物って何？教えてくれー！</td>\n",
       "      <td>n</td>\n",
       "      <td>n</td>\n",
       "      <td>n</td>\n",
       "      <td>p</td>\n",
       "      <td>n</td>\n",
       "      <td>n</td>\n",
       "      <td>n</td>\n",
       "      <td>n</td>\n",
       "    </tr>\n",
       "    <tr>\n",
       "      <th>81</th>\n",
       "      <td>82ja</td>\n",
       "      <td>スペイン風邪という病気があるらしいぜ</td>\n",
       "      <td>n</td>\n",
       "      <td>n</td>\n",
       "      <td>n</td>\n",
       "      <td>n</td>\n",
       "      <td>n</td>\n",
       "      <td>n</td>\n",
       "      <td>n</td>\n",
       "      <td>n</td>\n",
       "    </tr>\n",
       "    <tr>\n",
       "      <th>82</th>\n",
       "      <td>83ja</td>\n",
       "      <td>インフルで部活休むー</td>\n",
       "      <td>p</td>\n",
       "      <td>n</td>\n",
       "      <td>n</td>\n",
       "      <td>n</td>\n",
       "      <td>n</td>\n",
       "      <td>p</td>\n",
       "      <td>n</td>\n",
       "      <td>n</td>\n",
       "    </tr>\n",
       "    <tr>\n",
       "      <th>83</th>\n",
       "      <td>84ja</td>\n",
       "      <td>朝から下痢とかやばい。</td>\n",
       "      <td>n</td>\n",
       "      <td>p</td>\n",
       "      <td>n</td>\n",
       "      <td>n</td>\n",
       "      <td>n</td>\n",
       "      <td>n</td>\n",
       "      <td>n</td>\n",
       "      <td>n</td>\n",
       "    </tr>\n",
       "    <tr>\n",
       "      <th>84</th>\n",
       "      <td>85ja</td>\n",
       "      <td>ニュースで熱が高い人は病気知らずと言っていた</td>\n",
       "      <td>n</td>\n",
       "      <td>n</td>\n",
       "      <td>n</td>\n",
       "      <td>n</td>\n",
       "      <td>n</td>\n",
       "      <td>n</td>\n",
       "      <td>n</td>\n",
       "      <td>n</td>\n",
       "    </tr>\n",
       "    <tr>\n",
       "      <th>85</th>\n",
       "      <td>86ja</td>\n",
       "      <td>耳鼻科に行ったら副鼻腔炎だって。鼻風邪って副鼻腔炎？よくわからないけど薬の量がやばい。</td>\n",
       "      <td>n</td>\n",
       "      <td>n</td>\n",
       "      <td>n</td>\n",
       "      <td>n</td>\n",
       "      <td>n</td>\n",
       "      <td>n</td>\n",
       "      <td>p</td>\n",
       "      <td>p</td>\n",
       "    </tr>\n",
       "    <tr>\n",
       "      <th>86</th>\n",
       "      <td>87ja</td>\n",
       "      <td>鳥インフルの季節だってのに国内での検査の体制が整ってなくて全く御粗末だな。</td>\n",
       "      <td>n</td>\n",
       "      <td>n</td>\n",
       "      <td>n</td>\n",
       "      <td>n</td>\n",
       "      <td>n</td>\n",
       "      <td>n</td>\n",
       "      <td>n</td>\n",
       "      <td>n</td>\n",
       "    </tr>\n",
       "    <tr>\n",
       "      <th>87</th>\n",
       "      <td>88ja</td>\n",
       "      <td>弁当を買ったら容器の熱が凄くてほっかほかにもほどがある。</td>\n",
       "      <td>n</td>\n",
       "      <td>n</td>\n",
       "      <td>n</td>\n",
       "      <td>n</td>\n",
       "      <td>n</td>\n",
       "      <td>n</td>\n",
       "      <td>n</td>\n",
       "      <td>n</td>\n",
       "    </tr>\n",
       "    <tr>\n",
       "      <th>88</th>\n",
       "      <td>89ja</td>\n",
       "      <td>寝すぎて背中痛い。インフルまじ勘弁</td>\n",
       "      <td>p</td>\n",
       "      <td>n</td>\n",
       "      <td>n</td>\n",
       "      <td>n</td>\n",
       "      <td>n</td>\n",
       "      <td>p</td>\n",
       "      <td>n</td>\n",
       "      <td>n</td>\n",
       "    </tr>\n",
       "    <tr>\n",
       "      <th>89</th>\n",
       "      <td>90ja</td>\n",
       "      <td>携帯の熱を冷ますには涼しい場所に置くのがいいらしい。</td>\n",
       "      <td>n</td>\n",
       "      <td>n</td>\n",
       "      <td>n</td>\n",
       "      <td>n</td>\n",
       "      <td>n</td>\n",
       "      <td>n</td>\n",
       "      <td>n</td>\n",
       "      <td>n</td>\n",
       "    </tr>\n",
       "    <tr>\n",
       "      <th>90</th>\n",
       "      <td>91ja</td>\n",
       "      <td>風邪のせいで鼻づまりがひどすぎる。</td>\n",
       "      <td>n</td>\n",
       "      <td>n</td>\n",
       "      <td>n</td>\n",
       "      <td>n</td>\n",
       "      <td>n</td>\n",
       "      <td>n</td>\n",
       "      <td>p</td>\n",
       "      <td>p</td>\n",
       "    </tr>\n",
       "    <tr>\n",
       "      <th>91</th>\n",
       "      <td>92ja</td>\n",
       "      <td>昨日から急に涼しくなったせいか、今少し熱あるかもも。季節の変わり目は体調崩しやすいよね。</td>\n",
       "      <td>n</td>\n",
       "      <td>n</td>\n",
       "      <td>n</td>\n",
       "      <td>n</td>\n",
       "      <td>n</td>\n",
       "      <td>p</td>\n",
       "      <td>n</td>\n",
       "      <td>n</td>\n",
       "    </tr>\n",
       "    <tr>\n",
       "      <th>92</th>\n",
       "      <td>93ja</td>\n",
       "      <td>久しぶりに朝から激しい頭痛がするから学校に行くのだるい。</td>\n",
       "      <td>n</td>\n",
       "      <td>n</td>\n",
       "      <td>n</td>\n",
       "      <td>n</td>\n",
       "      <td>p</td>\n",
       "      <td>n</td>\n",
       "      <td>n</td>\n",
       "      <td>n</td>\n",
       "    </tr>\n",
       "    <tr>\n",
       "      <th>93</th>\n",
       "      <td>94ja</td>\n",
       "      <td>この時期、アイドルの握手会で、インフルエンザ対策とかどうしてるんだろうな。集団感染の温床だろ...</td>\n",
       "      <td>n</td>\n",
       "      <td>n</td>\n",
       "      <td>n</td>\n",
       "      <td>n</td>\n",
       "      <td>n</td>\n",
       "      <td>n</td>\n",
       "      <td>n</td>\n",
       "      <td>n</td>\n",
       "    </tr>\n",
       "    <tr>\n",
       "      <th>94</th>\n",
       "      <td>95ja</td>\n",
       "      <td>スペイン風邪だったら感染力が強いから大変だ。</td>\n",
       "      <td>n</td>\n",
       "      <td>n</td>\n",
       "      <td>n</td>\n",
       "      <td>n</td>\n",
       "      <td>n</td>\n",
       "      <td>n</td>\n",
       "      <td>n</td>\n",
       "      <td>n</td>\n",
       "    </tr>\n",
       "    <tr>\n",
       "      <th>95</th>\n",
       "      <td>96ja</td>\n",
       "      <td>鼻水も体液の一部なのか。</td>\n",
       "      <td>n</td>\n",
       "      <td>n</td>\n",
       "      <td>n</td>\n",
       "      <td>n</td>\n",
       "      <td>n</td>\n",
       "      <td>n</td>\n",
       "      <td>p</td>\n",
       "      <td>n</td>\n",
       "    </tr>\n",
       "    <tr>\n",
       "      <th>96</th>\n",
       "      <td>97ja</td>\n",
       "      <td>家に帰ると、娘が熱を出していたよ。リンパも腫れてるし。明日病院に行こう。</td>\n",
       "      <td>n</td>\n",
       "      <td>n</td>\n",
       "      <td>n</td>\n",
       "      <td>n</td>\n",
       "      <td>n</td>\n",
       "      <td>p</td>\n",
       "      <td>n</td>\n",
       "      <td>n</td>\n",
       "    </tr>\n",
       "    <tr>\n",
       "      <th>97</th>\n",
       "      <td>98ja</td>\n",
       "      <td>また腹が痛くなってきて下痢になった悪夢を思い出すよ。</td>\n",
       "      <td>n</td>\n",
       "      <td>p</td>\n",
       "      <td>n</td>\n",
       "      <td>n</td>\n",
       "      <td>n</td>\n",
       "      <td>n</td>\n",
       "      <td>n</td>\n",
       "      <td>n</td>\n",
       "    </tr>\n",
       "    <tr>\n",
       "      <th>98</th>\n",
       "      <td>99ja</td>\n",
       "      <td>花粉症なると微熱も出るし疲れるぜ</td>\n",
       "      <td>n</td>\n",
       "      <td>n</td>\n",
       "      <td>p</td>\n",
       "      <td>n</td>\n",
       "      <td>n</td>\n",
       "      <td>p</td>\n",
       "      <td>p</td>\n",
       "      <td>n</td>\n",
       "    </tr>\n",
       "    <tr>\n",
       "      <th>99</th>\n",
       "      <td>100ja</td>\n",
       "      <td>頭痛がすると一日苦痛だよ。</td>\n",
       "      <td>n</td>\n",
       "      <td>n</td>\n",
       "      <td>n</td>\n",
       "      <td>n</td>\n",
       "      <td>p</td>\n",
       "      <td>n</td>\n",
       "      <td>n</td>\n",
       "      <td>n</td>\n",
       "    </tr>\n",
       "  </tbody>\n",
       "</table>\n",
       "<p>100 rows × 10 columns</p>\n",
       "</div>"
      ],
      "text/plain": [
       "       ID                                              Tweet Influenza  \\\n",
       "0     1ja                                    風邪を引くと全身がだるくなる。         n   \n",
       "1     2ja                                花粉症の症状が出てきたのは久し振りだ。         n   \n",
       "2     3ja                           花粉症のせいでずっと微熱でぼーっとしてる。眠い。         n   \n",
       "3     4ja                                   薬飲んだけど鼻水おさまる気配なし         n   \n",
       "4     5ja                         ネパールに旅行に行った際に下痢になって大変だったよ。         n   \n",
       "5     6ja                咳くらいで休むのはゆとりだけだろ。どんなときでも仕事にでるのは大事だ。         n   \n",
       "6     7ja                                       鼻づまりで今日は休むわー         n   \n",
       "7     8ja                                       まさか花粉症になるとは。         n   \n",
       "8     9ja                              熱は出てるけどお腹に来る風邪じゃなさそう。         n   \n",
       "9    10ja                                        痰に血が混じってきもい         n   \n",
       "10   11ja              来春は花粉が少ないとか言われても、秋の花粉症のほうが重症な私には関係ない。         n   \n",
       "11   12ja                               あかん。咳込みすぎて頭まで痛くなってきた         n   \n",
       "12   13ja           微熱が出たから風邪かなって思ったら花粉症だった、花粉症でも熱出るって知らんかった         n   \n",
       "13   14ja                              インフルエンザのワクチン打ちに行ってきた。         n   \n",
       "14   15ja                                    頭痛がやばいから帰宅して寝るー         n   \n",
       "15   16ja                                      風邪もりっぱな病気の１つ。         n   \n",
       "16   17ja                  サッカーの試合観戦のため、ネパールに行っている間中下痢に苦しんだ。         n   \n",
       "17   18ja                                        痰抑える方法ないかな。         n   \n",
       "18   19ja                               最悪だー風邪ひいたー。頭がぼーっとする。         n   \n",
       "19   20ja  犬のブログを通じて知り合った人が鼻づまりで息ができず苦しいらしい。たかが鼻水だけの鼻風邪と侮...         n   \n",
       "20   21ja           風邪だから薬を飲んでいるけど、副作用のせいで眠い。休めるなら休めばよかった・・・         n   \n",
       "21   22ja                              痰が出てるから熱計ってみたら、高熱だった。         n   \n",
       "22   23ja                       花粉症だと思っていたのにまさかの微熱。風邪かもしれない。         n   \n",
       "23   24ja                              朝から頭痛がやばい。昨日飲みすぎたのかな。         n   \n",
       "24   25ja                                   スペイン風邪ってのが昔流行った。         n   \n",
       "25   26ja                                    風邪と頭痛で頭がぼーっとする。         n   \n",
       "26   27ja  今年二回目のインフルになったんだけど、これって原発事故による放射能で体力落ちちゃったのが原因...         p   \n",
       "27   28ja                                         下痢ひどすぎで笑うわ         n   \n",
       "28   29ja                           きつい頭痛が襲っている僕は今どこにいるんだろう？         n   \n",
       "29   30ja                           この契約が上手くいかないのは頭痛の種でしかない。         n   \n",
       "..    ...                                                ...       ...   \n",
       "70   71ja                               うーん、このタイミングで風邪とか最悪だ。         n   \n",
       "71   72ja                                  担任がインフルという危機的な状況。         p   \n",
       "72   73ja                                  だるいと思ったけど、頭痛がしてきた         n   \n",
       "73   74ja                               指数関数的に風邪患者が増えているらしい。         n   \n",
       "74   75ja                                 朝起きて、いきなり頭痛はやばいだろ。         n   \n",
       "75   76ja                             今回風邪ひいたのは家族の中で私が最初だった。         n   \n",
       "76   77ja                         鼻風邪がつらかったから、柔らかいティッシュが嬉しい。         n   \n",
       "77   78ja                                   激しい頭痛だけど、医者に断られた         n   \n",
       "78   79ja                                 最近ちょっとお腹痛い、下痢気味です。         n   \n",
       "79   80ja                                       犬も鼻づまりになるんだ。         n   \n",
       "80   81ja                                痰を抑える食べ物って何？教えてくれー！         n   \n",
       "81   82ja                                 スペイン風邪という病気があるらしいぜ         n   \n",
       "82   83ja                                         インフルで部活休むー         p   \n",
       "83   84ja                                        朝から下痢とかやばい。         n   \n",
       "84   85ja                             ニュースで熱が高い人は病気知らずと言っていた         n   \n",
       "85   86ja        耳鼻科に行ったら副鼻腔炎だって。鼻風邪って副鼻腔炎？よくわからないけど薬の量がやばい。         n   \n",
       "86   87ja              鳥インフルの季節だってのに国内での検査の体制が整ってなくて全く御粗末だな。         n   \n",
       "87   88ja                       弁当を買ったら容器の熱が凄くてほっかほかにもほどがある。         n   \n",
       "88   89ja                                  寝すぎて背中痛い。インフルまじ勘弁         p   \n",
       "89   90ja                         携帯の熱を冷ますには涼しい場所に置くのがいいらしい。         n   \n",
       "90   91ja                                  風邪のせいで鼻づまりがひどすぎる。         n   \n",
       "91   92ja       昨日から急に涼しくなったせいか、今少し熱あるかもも。季節の変わり目は体調崩しやすいよね。         n   \n",
       "92   93ja                       久しぶりに朝から激しい頭痛がするから学校に行くのだるい。         n   \n",
       "93   94ja  この時期、アイドルの握手会で、インフルエンザ対策とかどうしてるんだろうな。集団感染の温床だろ...         n   \n",
       "94   95ja                             スペイン風邪だったら感染力が強いから大変だ。         n   \n",
       "95   96ja                                       鼻水も体液の一部なのか。         n   \n",
       "96   97ja               家に帰ると、娘が熱を出していたよ。リンパも腫れてるし。明日病院に行こう。         n   \n",
       "97   98ja                         また腹が痛くなってきて下痢になった悪夢を思い出すよ。         n   \n",
       "98   99ja                                   花粉症なると微熱も出るし疲れるぜ         n   \n",
       "99  100ja                                      頭痛がすると一日苦痛だよ。         n   \n",
       "\n",
       "   Diarrhea Hayfever Cough Headache Fever Runnynose Cold  \n",
       "0         n        n     n        n     n         n    p  \n",
       "1         n        p     n        n     n         p    n  \n",
       "2         n        p     n        n     p         p    n  \n",
       "3         n        n     n        n     n         p    n  \n",
       "4         n        n     n        n     n         n    n  \n",
       "5         n        n     p        n     n         n    n  \n",
       "6         n        n     n        n     n         p    n  \n",
       "7         n        p     n        n     n         p    n  \n",
       "8         n        n     n        n     p         n    p  \n",
       "9         n        n     p        n     n         n    n  \n",
       "10        n        n     n        n     n         n    n  \n",
       "11        n        n     p        p     n         n    n  \n",
       "12        n        p     n        n     p         p    p  \n",
       "13        n        n     n        n     n         n    n  \n",
       "14        n        n     n        p     n         n    n  \n",
       "15        n        n     n        n     n         n    n  \n",
       "16        n        n     n        n     n         n    n  \n",
       "17        n        n     p        n     n         n    n  \n",
       "18        n        n     n        n     n         n    p  \n",
       "19        n        n     n        n     n         n    n  \n",
       "20        n        n     n        n     n         n    p  \n",
       "21        n        n     p        n     p         n    n  \n",
       "22        n        p     n        n     p         p    p  \n",
       "23        n        n     n        p     n         n    n  \n",
       "24        n        n     n        n     n         n    n  \n",
       "25        n        n     n        p     n         n    p  \n",
       "26        n        n     n        n     p         n    n  \n",
       "27        p        n     n        n     n         n    n  \n",
       "28        n        n     n        p     n         n    n  \n",
       "29        n        n     n        n     n         n    n  \n",
       "..      ...      ...   ...      ...   ...       ...  ...  \n",
       "70        n        n     n        n     n         n    p  \n",
       "71        n        n     n        n     p         n    n  \n",
       "72        n        n     n        p     n         n    n  \n",
       "73        n        n     n        n     n         n    n  \n",
       "74        n        n     n        p     n         n    n  \n",
       "75        n        n     n        n     n         n    p  \n",
       "76        n        n     n        n     n         p    p  \n",
       "77        n        n     n        p     n         n    n  \n",
       "78        p        n     n        n     n         n    n  \n",
       "79        n        n     n        n     n         n    n  \n",
       "80        n        n     p        n     n         n    n  \n",
       "81        n        n     n        n     n         n    n  \n",
       "82        n        n     n        n     p         n    n  \n",
       "83        p        n     n        n     n         n    n  \n",
       "84        n        n     n        n     n         n    n  \n",
       "85        n        n     n        n     n         p    p  \n",
       "86        n        n     n        n     n         n    n  \n",
       "87        n        n     n        n     n         n    n  \n",
       "88        n        n     n        n     p         n    n  \n",
       "89        n        n     n        n     n         n    n  \n",
       "90        n        n     n        n     n         p    p  \n",
       "91        n        n     n        n     p         n    n  \n",
       "92        n        n     n        p     n         n    n  \n",
       "93        n        n     n        n     n         n    n  \n",
       "94        n        n     n        n     n         n    n  \n",
       "95        n        n     n        n     n         p    n  \n",
       "96        n        n     n        n     p         n    n  \n",
       "97        p        n     n        n     n         n    n  \n",
       "98        n        p     n        n     p         p    n  \n",
       "99        n        n     n        p     n         n    n  \n",
       "\n",
       "[100 rows x 10 columns]"
      ]
     },
     "execution_count": 9,
     "metadata": {},
     "output_type": "execute_result"
    }
   ],
   "source": [
    "trn.head(100)"
   ]
  },
  {
   "cell_type": "code",
   "execution_count": 10,
   "metadata": {},
   "outputs": [
    {
     "data": {
      "text/plain": [
       "Index(['Influenza', 'Diarrhea', 'Hayfever', 'Cough', 'Headache', 'Fever',\n",
       "       'Runnynose', 'Cold'],\n",
       "      dtype='object')"
      ]
     },
     "execution_count": 10,
     "metadata": {},
     "output_type": "execute_result"
    }
   ],
   "source": [
    "# name of labels\n",
    "lbl_names = trn.columns[2:]\n",
    "lbl_names"
   ]
  },
  {
   "cell_type": "code",
   "execution_count": 11,
   "metadata": {},
   "outputs": [],
   "source": [
    "# save\n",
    "pickle.dump(lbl_names, open('data/MedWeb/lbl_names.pkl','wb'))"
   ]
  },
  {
   "cell_type": "markdown",
   "metadata": {},
   "source": [
    "3列目以降がpの列名を列挙して、ラベルとする"
   ]
  },
  {
   "cell_type": "markdown",
   "metadata": {},
   "source": [
    "trn_lbl = ['_'.join(row) for row in ((trn.iloc[:,2:] == 'p')*1).values.astype(str)]"
   ]
  },
  {
   "cell_type": "markdown",
   "metadata": {},
   "source": [
    "trn_lbl = [','.join(row) for row in trn.columns[2:] + '_' +trn.iloc[:,2:]]"
   ]
  },
  {
   "cell_type": "markdown",
   "metadata": {},
   "source": [
    "for i, row in trn.iterrows():\n",
    "    print(','.join(lbl_names[row[2:]=='p']))\n",
    "    if i > 5:\n",
    "        break"
   ]
  },
  {
   "cell_type": "code",
   "execution_count": 12,
   "metadata": {},
   "outputs": [],
   "source": [
    "lbl_idx = np.asarray([i for i in range(len(lbl_names))])"
   ]
  },
  {
   "cell_type": "code",
   "execution_count": 13,
   "metadata": {},
   "outputs": [
    {
     "data": {
      "text/plain": [
       "array([0, 1, 2, 3, 4, 5, 6, 7])"
      ]
     },
     "execution_count": 13,
     "metadata": {},
     "output_type": "execute_result"
    }
   ],
   "source": [
    "lbl_idx"
   ]
  },
  {
   "cell_type": "code",
   "execution_count": 14,
   "metadata": {},
   "outputs": [],
   "source": [
    "trn_lbl = []\n",
    "for i, row in trn.iterrows():\n",
    "    trn_lbl.append(lbl_idx[(row[2:]=='p').values])"
   ]
  },
  {
   "cell_type": "code",
   "execution_count": 15,
   "metadata": {},
   "outputs": [
    {
     "data": {
      "text/plain": [
       "[array([7]),\n",
       " array([2, 6]),\n",
       " array([2, 5, 6]),\n",
       " array([6]),\n",
       " array([], dtype=int64)]"
      ]
     },
     "execution_count": 15,
     "metadata": {},
     "output_type": "execute_result"
    }
   ],
   "source": [
    "trn_lbl[:5]"
   ]
  },
  {
   "cell_type": "code",
   "execution_count": 16,
   "metadata": {},
   "outputs": [],
   "source": [
    "# put data into df and save\n",
    "trn_df = pd.DataFrame({'text':trn['Tweet'].values, 'labels':trn_lbl},columns=['labels', 'text'])\n",
    "trn_df.to_csv('data/MedWeb/train.csv', header=False, index=False)\n"
   ]
  },
  {
   "cell_type": "code",
   "execution_count": 17,
   "metadata": {},
   "outputs": [
    {
     "data": {
      "text/html": [
       "<div>\n",
       "<style scoped>\n",
       "    .dataframe tbody tr th:only-of-type {\n",
       "        vertical-align: middle;\n",
       "    }\n",
       "\n",
       "    .dataframe tbody tr th {\n",
       "        vertical-align: top;\n",
       "    }\n",
       "\n",
       "    .dataframe thead th {\n",
       "        text-align: right;\n",
       "    }\n",
       "</style>\n",
       "<table border=\"1\" class=\"dataframe\">\n",
       "  <thead>\n",
       "    <tr style=\"text-align: right;\">\n",
       "      <th></th>\n",
       "      <th>labels</th>\n",
       "      <th>text</th>\n",
       "    </tr>\n",
       "  </thead>\n",
       "  <tbody>\n",
       "    <tr>\n",
       "      <th>0</th>\n",
       "      <td>[7]</td>\n",
       "      <td>風邪を引くと全身がだるくなる。</td>\n",
       "    </tr>\n",
       "    <tr>\n",
       "      <th>1</th>\n",
       "      <td>[2, 6]</td>\n",
       "      <td>花粉症の症状が出てきたのは久し振りだ。</td>\n",
       "    </tr>\n",
       "    <tr>\n",
       "      <th>2</th>\n",
       "      <td>[2, 5, 6]</td>\n",
       "      <td>花粉症のせいでずっと微熱でぼーっとしてる。眠い。</td>\n",
       "    </tr>\n",
       "    <tr>\n",
       "      <th>3</th>\n",
       "      <td>[6]</td>\n",
       "      <td>薬飲んだけど鼻水おさまる気配なし</td>\n",
       "    </tr>\n",
       "    <tr>\n",
       "      <th>4</th>\n",
       "      <td>[]</td>\n",
       "      <td>ネパールに旅行に行った際に下痢になって大変だったよ。</td>\n",
       "    </tr>\n",
       "    <tr>\n",
       "      <th>5</th>\n",
       "      <td>[3]</td>\n",
       "      <td>咳くらいで休むのはゆとりだけだろ。どんなときでも仕事にでるのは大事だ。</td>\n",
       "    </tr>\n",
       "    <tr>\n",
       "      <th>6</th>\n",
       "      <td>[6]</td>\n",
       "      <td>鼻づまりで今日は休むわー</td>\n",
       "    </tr>\n",
       "    <tr>\n",
       "      <th>7</th>\n",
       "      <td>[2, 6]</td>\n",
       "      <td>まさか花粉症になるとは。</td>\n",
       "    </tr>\n",
       "    <tr>\n",
       "      <th>8</th>\n",
       "      <td>[5, 7]</td>\n",
       "      <td>熱は出てるけどお腹に来る風邪じゃなさそう。</td>\n",
       "    </tr>\n",
       "    <tr>\n",
       "      <th>9</th>\n",
       "      <td>[3]</td>\n",
       "      <td>痰に血が混じってきもい</td>\n",
       "    </tr>\n",
       "    <tr>\n",
       "      <th>10</th>\n",
       "      <td>[]</td>\n",
       "      <td>来春は花粉が少ないとか言われても、秋の花粉症のほうが重症な私には関係ない。</td>\n",
       "    </tr>\n",
       "    <tr>\n",
       "      <th>11</th>\n",
       "      <td>[3, 4]</td>\n",
       "      <td>あかん。咳込みすぎて頭まで痛くなってきた</td>\n",
       "    </tr>\n",
       "    <tr>\n",
       "      <th>12</th>\n",
       "      <td>[2, 5, 6, 7]</td>\n",
       "      <td>微熱が出たから風邪かなって思ったら花粉症だった、花粉症でも熱出るって知らんかった</td>\n",
       "    </tr>\n",
       "    <tr>\n",
       "      <th>13</th>\n",
       "      <td>[]</td>\n",
       "      <td>インフルエンザのワクチン打ちに行ってきた。</td>\n",
       "    </tr>\n",
       "    <tr>\n",
       "      <th>14</th>\n",
       "      <td>[4]</td>\n",
       "      <td>頭痛がやばいから帰宅して寝るー</td>\n",
       "    </tr>\n",
       "    <tr>\n",
       "      <th>15</th>\n",
       "      <td>[]</td>\n",
       "      <td>風邪もりっぱな病気の１つ。</td>\n",
       "    </tr>\n",
       "    <tr>\n",
       "      <th>16</th>\n",
       "      <td>[]</td>\n",
       "      <td>サッカーの試合観戦のため、ネパールに行っている間中下痢に苦しんだ。</td>\n",
       "    </tr>\n",
       "    <tr>\n",
       "      <th>17</th>\n",
       "      <td>[3]</td>\n",
       "      <td>痰抑える方法ないかな。</td>\n",
       "    </tr>\n",
       "    <tr>\n",
       "      <th>18</th>\n",
       "      <td>[7]</td>\n",
       "      <td>最悪だー風邪ひいたー。頭がぼーっとする。</td>\n",
       "    </tr>\n",
       "    <tr>\n",
       "      <th>19</th>\n",
       "      <td>[]</td>\n",
       "      <td>犬のブログを通じて知り合った人が鼻づまりで息ができず苦しいらしい。たかが鼻水だけの鼻風邪と侮...</td>\n",
       "    </tr>\n",
       "    <tr>\n",
       "      <th>20</th>\n",
       "      <td>[7]</td>\n",
       "      <td>風邪だから薬を飲んでいるけど、副作用のせいで眠い。休めるなら休めばよかった・・・</td>\n",
       "    </tr>\n",
       "    <tr>\n",
       "      <th>21</th>\n",
       "      <td>[3, 5]</td>\n",
       "      <td>痰が出てるから熱計ってみたら、高熱だった。</td>\n",
       "    </tr>\n",
       "    <tr>\n",
       "      <th>22</th>\n",
       "      <td>[2, 5, 6, 7]</td>\n",
       "      <td>花粉症だと思っていたのにまさかの微熱。風邪かもしれない。</td>\n",
       "    </tr>\n",
       "    <tr>\n",
       "      <th>23</th>\n",
       "      <td>[4]</td>\n",
       "      <td>朝から頭痛がやばい。昨日飲みすぎたのかな。</td>\n",
       "    </tr>\n",
       "    <tr>\n",
       "      <th>24</th>\n",
       "      <td>[]</td>\n",
       "      <td>スペイン風邪ってのが昔流行った。</td>\n",
       "    </tr>\n",
       "    <tr>\n",
       "      <th>25</th>\n",
       "      <td>[4, 7]</td>\n",
       "      <td>風邪と頭痛で頭がぼーっとする。</td>\n",
       "    </tr>\n",
       "    <tr>\n",
       "      <th>26</th>\n",
       "      <td>[0, 5]</td>\n",
       "      <td>今年二回目のインフルになったんだけど、これって原発事故による放射能で体力落ちちゃったのが原因...</td>\n",
       "    </tr>\n",
       "    <tr>\n",
       "      <th>27</th>\n",
       "      <td>[1]</td>\n",
       "      <td>下痢ひどすぎで笑うわ</td>\n",
       "    </tr>\n",
       "    <tr>\n",
       "      <th>28</th>\n",
       "      <td>[4]</td>\n",
       "      <td>きつい頭痛が襲っている僕は今どこにいるんだろう？</td>\n",
       "    </tr>\n",
       "    <tr>\n",
       "      <th>29</th>\n",
       "      <td>[]</td>\n",
       "      <td>この契約が上手くいかないのは頭痛の種でしかない。</td>\n",
       "    </tr>\n",
       "    <tr>\n",
       "      <th>...</th>\n",
       "      <td>...</td>\n",
       "      <td>...</td>\n",
       "    </tr>\n",
       "    <tr>\n",
       "      <th>1890</th>\n",
       "      <td>[]</td>\n",
       "      <td>薬を飲んだら鼻水止まったぜ！</td>\n",
       "    </tr>\n",
       "    <tr>\n",
       "      <th>1891</th>\n",
       "      <td>[5]</td>\n",
       "      <td>熱でくらくらして日課のお弁当作れなかった。</td>\n",
       "    </tr>\n",
       "    <tr>\n",
       "      <th>1892</th>\n",
       "      <td>[1]</td>\n",
       "      <td>下痢だしお腹痛いけど仕事に行けるかなあ。</td>\n",
       "    </tr>\n",
       "    <tr>\n",
       "      <th>1893</th>\n",
       "      <td>[6]</td>\n",
       "      <td>鼻水を止める薬を飲んだら眠くてやばい。</td>\n",
       "    </tr>\n",
       "    <tr>\n",
       "      <th>1894</th>\n",
       "      <td>[]</td>\n",
       "      <td>この前会社で集団下痢事件があったんだけど。怖すぎ。</td>\n",
       "    </tr>\n",
       "    <tr>\n",
       "      <th>1895</th>\n",
       "      <td>[6, 7]</td>\n",
       "      <td>誰か鼻風邪の薬持ってない？</td>\n",
       "    </tr>\n",
       "    <tr>\n",
       "      <th>1896</th>\n",
       "      <td>[4]</td>\n",
       "      <td>頭痛対策まだわからない！</td>\n",
       "    </tr>\n",
       "    <tr>\n",
       "      <th>1897</th>\n",
       "      <td>[3]</td>\n",
       "      <td>咳をするとき口元を抑えるのはエチケットだよね。</td>\n",
       "    </tr>\n",
       "    <tr>\n",
       "      <th>1898</th>\n",
       "      <td>[4]</td>\n",
       "      <td>頭痛が激しいから、今日はもう帰ることにした。</td>\n",
       "    </tr>\n",
       "    <tr>\n",
       "      <th>1899</th>\n",
       "      <td>[3]</td>\n",
       "      <td>咳を抑える薬が必要だ。</td>\n",
       "    </tr>\n",
       "    <tr>\n",
       "      <th>1900</th>\n",
       "      <td>[3]</td>\n",
       "      <td>咳を抑える薬買わなきゃ。</td>\n",
       "    </tr>\n",
       "    <tr>\n",
       "      <th>1901</th>\n",
       "      <td>[3]</td>\n",
       "      <td>痰が混じる咳がひどいと胸が痛くなる。</td>\n",
       "    </tr>\n",
       "    <tr>\n",
       "      <th>1902</th>\n",
       "      <td>[]</td>\n",
       "      <td>スペインの人って陽気だから風邪とかひかなそう！</td>\n",
       "    </tr>\n",
       "    <tr>\n",
       "      <th>1903</th>\n",
       "      <td>[1]</td>\n",
       "      <td>やばい、お腹痛い、下痢かも</td>\n",
       "    </tr>\n",
       "    <tr>\n",
       "      <th>1904</th>\n",
       "      <td>[1]</td>\n",
       "      <td>朝起きたらお腹痛くて下ってる。下痢とかやばい。</td>\n",
       "    </tr>\n",
       "    <tr>\n",
       "      <th>1905</th>\n",
       "      <td>[]</td>\n",
       "      <td>おたふく風邪によく効く薬が開発されたらしいよ</td>\n",
       "    </tr>\n",
       "    <tr>\n",
       "      <th>1906</th>\n",
       "      <td>[5]</td>\n",
       "      <td>熱出して今日はずっとテレビみてる。また東京行きたいな。</td>\n",
       "    </tr>\n",
       "    <tr>\n",
       "      <th>1907</th>\n",
       "      <td>[6]</td>\n",
       "      <td>左右どちらかが鼻づまりしている自分が大好きだ。</td>\n",
       "    </tr>\n",
       "    <tr>\n",
       "      <th>1908</th>\n",
       "      <td>[]</td>\n",
       "      <td>もう既にインフルエンザワクチンが不足してるらしい。</td>\n",
       "    </tr>\n",
       "    <tr>\n",
       "      <th>1909</th>\n",
       "      <td>[3]</td>\n",
       "      <td>電車で隣に座ってる人、手で抑えず痰が絡むような咳をしてる。迷惑。</td>\n",
       "    </tr>\n",
       "    <tr>\n",
       "      <th>1910</th>\n",
       "      <td>[]</td>\n",
       "      <td>英語で下痢は何て言うか知ってる？</td>\n",
       "    </tr>\n",
       "    <tr>\n",
       "      <th>1911</th>\n",
       "      <td>[2, 6]</td>\n",
       "      <td>花粉症で鼻水が止まらなくて鼻かみすぎて鼻が痛い。</td>\n",
       "    </tr>\n",
       "    <tr>\n",
       "      <th>1912</th>\n",
       "      <td>[7]</td>\n",
       "      <td>寒気がすごいんだけどこれって風邪ですかね？</td>\n",
       "    </tr>\n",
       "    <tr>\n",
       "      <th>1913</th>\n",
       "      <td>[3]</td>\n",
       "      <td>女性が痰をはいている姿は見たくないなあ。</td>\n",
       "    </tr>\n",
       "    <tr>\n",
       "      <th>1914</th>\n",
       "      <td>[]</td>\n",
       "      <td>まとめブログ読んでたけど、犬も鼻風邪引くんだな。写真載ってた。</td>\n",
       "    </tr>\n",
       "    <tr>\n",
       "      <th>1915</th>\n",
       "      <td>[]</td>\n",
       "      <td>ネパール行って下痢が止まらなかったの思い出した</td>\n",
       "    </tr>\n",
       "    <tr>\n",
       "      <th>1916</th>\n",
       "      <td>[7]</td>\n",
       "      <td>寒気でだるいし頭はぼーっとするし、風邪っぽい</td>\n",
       "    </tr>\n",
       "    <tr>\n",
       "      <th>1917</th>\n",
       "      <td>[1]</td>\n",
       "      <td>何時もお腹痛いってトイレに行ってるけど、下痢をしてるわけじゃないよ。</td>\n",
       "    </tr>\n",
       "    <tr>\n",
       "      <th>1918</th>\n",
       "      <td>[]</td>\n",
       "      <td>鳥インフルが流行する。</td>\n",
       "    </tr>\n",
       "    <tr>\n",
       "      <th>1919</th>\n",
       "      <td>[7]</td>\n",
       "      <td>風邪を引いたのはおたふく以来だ・・・</td>\n",
       "    </tr>\n",
       "  </tbody>\n",
       "</table>\n",
       "<p>1920 rows × 2 columns</p>\n",
       "</div>"
      ],
      "text/plain": [
       "            labels                                               text\n",
       "0              [7]                                    風邪を引くと全身がだるくなる。\n",
       "1           [2, 6]                                花粉症の症状が出てきたのは久し振りだ。\n",
       "2        [2, 5, 6]                           花粉症のせいでずっと微熱でぼーっとしてる。眠い。\n",
       "3              [6]                                   薬飲んだけど鼻水おさまる気配なし\n",
       "4               []                         ネパールに旅行に行った際に下痢になって大変だったよ。\n",
       "5              [3]                咳くらいで休むのはゆとりだけだろ。どんなときでも仕事にでるのは大事だ。\n",
       "6              [6]                                       鼻づまりで今日は休むわー\n",
       "7           [2, 6]                                       まさか花粉症になるとは。\n",
       "8           [5, 7]                              熱は出てるけどお腹に来る風邪じゃなさそう。\n",
       "9              [3]                                        痰に血が混じってきもい\n",
       "10              []              来春は花粉が少ないとか言われても、秋の花粉症のほうが重症な私には関係ない。\n",
       "11          [3, 4]                               あかん。咳込みすぎて頭まで痛くなってきた\n",
       "12    [2, 5, 6, 7]           微熱が出たから風邪かなって思ったら花粉症だった、花粉症でも熱出るって知らんかった\n",
       "13              []                              インフルエンザのワクチン打ちに行ってきた。\n",
       "14             [4]                                    頭痛がやばいから帰宅して寝るー\n",
       "15              []                                      風邪もりっぱな病気の１つ。\n",
       "16              []                  サッカーの試合観戦のため、ネパールに行っている間中下痢に苦しんだ。\n",
       "17             [3]                                        痰抑える方法ないかな。\n",
       "18             [7]                               最悪だー風邪ひいたー。頭がぼーっとする。\n",
       "19              []  犬のブログを通じて知り合った人が鼻づまりで息ができず苦しいらしい。たかが鼻水だけの鼻風邪と侮...\n",
       "20             [7]           風邪だから薬を飲んでいるけど、副作用のせいで眠い。休めるなら休めばよかった・・・\n",
       "21          [3, 5]                              痰が出てるから熱計ってみたら、高熱だった。\n",
       "22    [2, 5, 6, 7]                       花粉症だと思っていたのにまさかの微熱。風邪かもしれない。\n",
       "23             [4]                              朝から頭痛がやばい。昨日飲みすぎたのかな。\n",
       "24              []                                   スペイン風邪ってのが昔流行った。\n",
       "25          [4, 7]                                    風邪と頭痛で頭がぼーっとする。\n",
       "26          [0, 5]  今年二回目のインフルになったんだけど、これって原発事故による放射能で体力落ちちゃったのが原因...\n",
       "27             [1]                                         下痢ひどすぎで笑うわ\n",
       "28             [4]                           きつい頭痛が襲っている僕は今どこにいるんだろう？\n",
       "29              []                           この契約が上手くいかないのは頭痛の種でしかない。\n",
       "...            ...                                                ...\n",
       "1890            []                                     薬を飲んだら鼻水止まったぜ！\n",
       "1891           [5]                              熱でくらくらして日課のお弁当作れなかった。\n",
       "1892           [1]                               下痢だしお腹痛いけど仕事に行けるかなあ。\n",
       "1893           [6]                                鼻水を止める薬を飲んだら眠くてやばい。\n",
       "1894            []                          この前会社で集団下痢事件があったんだけど。怖すぎ。\n",
       "1895        [6, 7]                                      誰か鼻風邪の薬持ってない？\n",
       "1896           [4]                                       頭痛対策まだわからない！\n",
       "1897           [3]                            咳をするとき口元を抑えるのはエチケットだよね。\n",
       "1898           [4]                             頭痛が激しいから、今日はもう帰ることにした。\n",
       "1899           [3]                                        咳を抑える薬が必要だ。\n",
       "1900           [3]                                       咳を抑える薬買わなきゃ。\n",
       "1901           [3]                                 痰が混じる咳がひどいと胸が痛くなる。\n",
       "1902            []                            スペインの人って陽気だから風邪とかひかなそう！\n",
       "1903           [1]                                      やばい、お腹痛い、下痢かも\n",
       "1904           [1]                            朝起きたらお腹痛くて下ってる。下痢とかやばい。\n",
       "1905            []                             おたふく風邪によく効く薬が開発されたらしいよ\n",
       "1906           [5]                        熱出して今日はずっとテレビみてる。また東京行きたいな。\n",
       "1907           [6]                            左右どちらかが鼻づまりしている自分が大好きだ。\n",
       "1908            []                          もう既にインフルエンザワクチンが不足してるらしい。\n",
       "1909           [3]                   電車で隣に座ってる人、手で抑えず痰が絡むような咳をしてる。迷惑。\n",
       "1910            []                                   英語で下痢は何て言うか知ってる？\n",
       "1911        [2, 6]                           花粉症で鼻水が止まらなくて鼻かみすぎて鼻が痛い。\n",
       "1912           [7]                              寒気がすごいんだけどこれって風邪ですかね？\n",
       "1913           [3]                               女性が痰をはいている姿は見たくないなあ。\n",
       "1914            []                    まとめブログ読んでたけど、犬も鼻風邪引くんだな。写真載ってた。\n",
       "1915            []                            ネパール行って下痢が止まらなかったの思い出した\n",
       "1916           [7]                             寒気でだるいし頭はぼーっとするし、風邪っぽい\n",
       "1917           [1]                 何時もお腹痛いってトイレに行ってるけど、下痢をしてるわけじゃないよ。\n",
       "1918            []                                        鳥インフルが流行する。\n",
       "1919           [7]                                 風邪を引いたのはおたふく以来だ・・・\n",
       "\n",
       "[1920 rows x 2 columns]"
      ]
     },
     "execution_count": 17,
     "metadata": {},
     "output_type": "execute_result"
    }
   ],
   "source": [
    "trn_df"
   ]
  },
  {
   "cell_type": "markdown",
   "metadata": {},
   "source": [
    "### test"
   ]
  },
  {
   "cell_type": "code",
   "execution_count": 18,
   "metadata": {},
   "outputs": [],
   "source": [
    "tst = pd.read_excel('data/MedWeb/NTCIR-13_MedWeb_ja_test.xlsx',sheet_name='ja_test')"
   ]
  },
  {
   "cell_type": "code",
   "execution_count": 19,
   "metadata": {
    "scrolled": true
   },
   "outputs": [
    {
     "data": {
      "text/html": [
       "<div>\n",
       "<style scoped>\n",
       "    .dataframe tbody tr th:only-of-type {\n",
       "        vertical-align: middle;\n",
       "    }\n",
       "\n",
       "    .dataframe tbody tr th {\n",
       "        vertical-align: top;\n",
       "    }\n",
       "\n",
       "    .dataframe thead th {\n",
       "        text-align: right;\n",
       "    }\n",
       "</style>\n",
       "<table border=\"1\" class=\"dataframe\">\n",
       "  <thead>\n",
       "    <tr style=\"text-align: right;\">\n",
       "      <th></th>\n",
       "      <th>ID</th>\n",
       "      <th>Tweet</th>\n",
       "      <th>Influenza</th>\n",
       "      <th>Diarrhea</th>\n",
       "      <th>Hayfever</th>\n",
       "      <th>Cough</th>\n",
       "      <th>Headache</th>\n",
       "      <th>Fever</th>\n",
       "      <th>Runnynose</th>\n",
       "      <th>Cold</th>\n",
       "    </tr>\n",
       "  </thead>\n",
       "  <tbody>\n",
       "    <tr>\n",
       "      <th>0</th>\n",
       "      <td>1921ja</td>\n",
       "      <td>旅行に行ったら、土産にインフルもらってきた。</td>\n",
       "      <td>p</td>\n",
       "      <td>n</td>\n",
       "      <td>n</td>\n",
       "      <td>n</td>\n",
       "      <td>n</td>\n",
       "      <td>p</td>\n",
       "      <td>n</td>\n",
       "      <td>n</td>\n",
       "    </tr>\n",
       "    <tr>\n",
       "      <th>1</th>\n",
       "      <td>1922ja</td>\n",
       "      <td>きつい上司、頭痛の種</td>\n",
       "      <td>n</td>\n",
       "      <td>n</td>\n",
       "      <td>n</td>\n",
       "      <td>n</td>\n",
       "      <td>n</td>\n",
       "      <td>n</td>\n",
       "      <td>n</td>\n",
       "      <td>n</td>\n",
       "    </tr>\n",
       "    <tr>\n",
       "      <th>2</th>\n",
       "      <td>1923ja</td>\n",
       "      <td>もう誰か翻訳してくれないときつい、宇宙の言葉ですかってくらい通じなくて頭痛してきた。</td>\n",
       "      <td>n</td>\n",
       "      <td>n</td>\n",
       "      <td>n</td>\n",
       "      <td>n</td>\n",
       "      <td>n</td>\n",
       "      <td>n</td>\n",
       "      <td>n</td>\n",
       "      <td>n</td>\n",
       "    </tr>\n",
       "    <tr>\n",
       "      <th>3</th>\n",
       "      <td>1924ja</td>\n",
       "      <td>インフル感染の危機。</td>\n",
       "      <td>p</td>\n",
       "      <td>n</td>\n",
       "      <td>n</td>\n",
       "      <td>n</td>\n",
       "      <td>n</td>\n",
       "      <td>p</td>\n",
       "      <td>n</td>\n",
       "      <td>n</td>\n",
       "    </tr>\n",
       "    <tr>\n",
       "      <th>4</th>\n",
       "      <td>1925ja</td>\n",
       "      <td>鼻づまりがひどいからスピーチは無理だ</td>\n",
       "      <td>n</td>\n",
       "      <td>n</td>\n",
       "      <td>n</td>\n",
       "      <td>n</td>\n",
       "      <td>n</td>\n",
       "      <td>n</td>\n",
       "      <td>p</td>\n",
       "      <td>n</td>\n",
       "    </tr>\n",
       "    <tr>\n",
       "      <th>5</th>\n",
       "      <td>1926ja</td>\n",
       "      <td>頭痛がしているので帰ることにする。</td>\n",
       "      <td>n</td>\n",
       "      <td>n</td>\n",
       "      <td>n</td>\n",
       "      <td>n</td>\n",
       "      <td>p</td>\n",
       "      <td>n</td>\n",
       "      <td>n</td>\n",
       "      <td>n</td>\n",
       "    </tr>\n",
       "    <tr>\n",
       "      <th>6</th>\n",
       "      <td>1927ja</td>\n",
       "      <td>インフルエンザになって部活のみんなから爆笑されたよ</td>\n",
       "      <td>p</td>\n",
       "      <td>n</td>\n",
       "      <td>n</td>\n",
       "      <td>n</td>\n",
       "      <td>n</td>\n",
       "      <td>p</td>\n",
       "      <td>n</td>\n",
       "      <td>n</td>\n",
       "    </tr>\n",
       "    <tr>\n",
       "      <th>7</th>\n",
       "      <td>1928ja</td>\n",
       "      <td>下痢って英語でなんていうんだろう。</td>\n",
       "      <td>n</td>\n",
       "      <td>n</td>\n",
       "      <td>n</td>\n",
       "      <td>n</td>\n",
       "      <td>n</td>\n",
       "      <td>n</td>\n",
       "      <td>n</td>\n",
       "      <td>n</td>\n",
       "    </tr>\n",
       "    <tr>\n",
       "      <th>8</th>\n",
       "      <td>1929ja</td>\n",
       "      <td>スペイン風邪、香港風邪っていうけど、日本風邪ってあるの？</td>\n",
       "      <td>n</td>\n",
       "      <td>n</td>\n",
       "      <td>n</td>\n",
       "      <td>n</td>\n",
       "      <td>n</td>\n",
       "      <td>n</td>\n",
       "      <td>n</td>\n",
       "      <td>n</td>\n",
       "    </tr>\n",
       "    <tr>\n",
       "      <th>9</th>\n",
       "      <td>1930ja</td>\n",
       "      <td>犬って鼻づまりとかするのかな？</td>\n",
       "      <td>n</td>\n",
       "      <td>n</td>\n",
       "      <td>n</td>\n",
       "      <td>n</td>\n",
       "      <td>n</td>\n",
       "      <td>n</td>\n",
       "      <td>n</td>\n",
       "      <td>n</td>\n",
       "    </tr>\n",
       "    <tr>\n",
       "      <th>10</th>\n",
       "      <td>1931ja</td>\n",
       "      <td>起きると下痢、寝てても下痢、何時も下痢・・・つらい</td>\n",
       "      <td>n</td>\n",
       "      <td>p</td>\n",
       "      <td>n</td>\n",
       "      <td>n</td>\n",
       "      <td>n</td>\n",
       "      <td>n</td>\n",
       "      <td>n</td>\n",
       "      <td>n</td>\n",
       "    </tr>\n",
       "    <tr>\n",
       "      <th>11</th>\n",
       "      <td>1932ja</td>\n",
       "      <td>花粉症の時期はすごい疲れる。</td>\n",
       "      <td>n</td>\n",
       "      <td>n</td>\n",
       "      <td>p</td>\n",
       "      <td>n</td>\n",
       "      <td>n</td>\n",
       "      <td>n</td>\n",
       "      <td>p</td>\n",
       "      <td>n</td>\n",
       "    </tr>\n",
       "    <tr>\n",
       "      <th>12</th>\n",
       "      <td>1933ja</td>\n",
       "      <td>おたふく風邪は感染力が強いらしいから、大変だね。</td>\n",
       "      <td>n</td>\n",
       "      <td>n</td>\n",
       "      <td>n</td>\n",
       "      <td>n</td>\n",
       "      <td>n</td>\n",
       "      <td>n</td>\n",
       "      <td>n</td>\n",
       "      <td>n</td>\n",
       "    </tr>\n",
       "    <tr>\n",
       "      <th>13</th>\n",
       "      <td>1934ja</td>\n",
       "      <td>一人暮らしの風邪大変だって聞いてたけど想像超えてきた</td>\n",
       "      <td>n</td>\n",
       "      <td>n</td>\n",
       "      <td>n</td>\n",
       "      <td>n</td>\n",
       "      <td>n</td>\n",
       "      <td>n</td>\n",
       "      <td>n</td>\n",
       "      <td>p</td>\n",
       "    </tr>\n",
       "    <tr>\n",
       "      <th>14</th>\n",
       "      <td>1935ja</td>\n",
       "      <td>今日は突然の熱で仕事を休んだ。昨日は涼しいを越えて寒いところにいたからなぁ。</td>\n",
       "      <td>n</td>\n",
       "      <td>n</td>\n",
       "      <td>n</td>\n",
       "      <td>n</td>\n",
       "      <td>n</td>\n",
       "      <td>p</td>\n",
       "      <td>n</td>\n",
       "      <td>n</td>\n",
       "    </tr>\n",
       "    <tr>\n",
       "      <th>15</th>\n",
       "      <td>1936ja</td>\n",
       "      <td>花粉症で病院に行った時に処方された薬もちゃんと使ってるんだけど、効果があまり出ないんだよね。</td>\n",
       "      <td>n</td>\n",
       "      <td>n</td>\n",
       "      <td>p</td>\n",
       "      <td>n</td>\n",
       "      <td>n</td>\n",
       "      <td>n</td>\n",
       "      <td>p</td>\n",
       "      <td>n</td>\n",
       "    </tr>\n",
       "    <tr>\n",
       "      <th>16</th>\n",
       "      <td>1937ja</td>\n",
       "      <td>寒気がする。本格的な風邪だ。これで休める。</td>\n",
       "      <td>n</td>\n",
       "      <td>n</td>\n",
       "      <td>n</td>\n",
       "      <td>n</td>\n",
       "      <td>n</td>\n",
       "      <td>n</td>\n",
       "      <td>n</td>\n",
       "      <td>p</td>\n",
       "    </tr>\n",
       "    <tr>\n",
       "      <th>17</th>\n",
       "      <td>1938ja</td>\n",
       "      <td>朝から寝るまでずっと頭痛だ</td>\n",
       "      <td>n</td>\n",
       "      <td>n</td>\n",
       "      <td>n</td>\n",
       "      <td>n</td>\n",
       "      <td>p</td>\n",
       "      <td>n</td>\n",
       "      <td>n</td>\n",
       "      <td>n</td>\n",
       "    </tr>\n",
       "    <tr>\n",
       "      <th>18</th>\n",
       "      <td>1939ja</td>\n",
       "      <td>誰が巫女に熱あげているって？</td>\n",
       "      <td>n</td>\n",
       "      <td>n</td>\n",
       "      <td>n</td>\n",
       "      <td>n</td>\n",
       "      <td>n</td>\n",
       "      <td>n</td>\n",
       "      <td>n</td>\n",
       "      <td>n</td>\n",
       "    </tr>\n",
       "    <tr>\n",
       "      <th>19</th>\n",
       "      <td>1940ja</td>\n",
       "      <td>東京に来てから鼻水が止まらない・・・。</td>\n",
       "      <td>n</td>\n",
       "      <td>n</td>\n",
       "      <td>n</td>\n",
       "      <td>n</td>\n",
       "      <td>n</td>\n",
       "      <td>n</td>\n",
       "      <td>p</td>\n",
       "      <td>n</td>\n",
       "    </tr>\n",
       "    <tr>\n",
       "      <th>20</th>\n",
       "      <td>1941ja</td>\n",
       "      <td>咳、痰がでたら、間もなく高熱でるかもね。</td>\n",
       "      <td>n</td>\n",
       "      <td>n</td>\n",
       "      <td>n</td>\n",
       "      <td>p</td>\n",
       "      <td>n</td>\n",
       "      <td>n</td>\n",
       "      <td>n</td>\n",
       "      <td>n</td>\n",
       "    </tr>\n",
       "    <tr>\n",
       "      <th>21</th>\n",
       "      <td>1942ja</td>\n",
       "      <td>頭痛以外は症状ないんだけどなあ〜。</td>\n",
       "      <td>n</td>\n",
       "      <td>n</td>\n",
       "      <td>n</td>\n",
       "      <td>n</td>\n",
       "      <td>p</td>\n",
       "      <td>n</td>\n",
       "      <td>n</td>\n",
       "      <td>n</td>\n",
       "    </tr>\n",
       "    <tr>\n",
       "      <th>22</th>\n",
       "      <td>1943ja</td>\n",
       "      <td>公園で犬と戯れてたら、鼻水が止まらなくなったぜ。</td>\n",
       "      <td>n</td>\n",
       "      <td>n</td>\n",
       "      <td>n</td>\n",
       "      <td>n</td>\n",
       "      <td>n</td>\n",
       "      <td>n</td>\n",
       "      <td>p</td>\n",
       "      <td>n</td>\n",
       "    </tr>\n",
       "    <tr>\n",
       "      <th>23</th>\n",
       "      <td>1944ja</td>\n",
       "      <td>今年風邪にかかったのは君が最初だ。</td>\n",
       "      <td>n</td>\n",
       "      <td>n</td>\n",
       "      <td>n</td>\n",
       "      <td>n</td>\n",
       "      <td>n</td>\n",
       "      <td>n</td>\n",
       "      <td>n</td>\n",
       "      <td>p</td>\n",
       "    </tr>\n",
       "    <tr>\n",
       "      <th>24</th>\n",
       "      <td>1945ja</td>\n",
       "      <td>ところで、頭痛持ちの人ってみんないつからそうなったの？</td>\n",
       "      <td>n</td>\n",
       "      <td>n</td>\n",
       "      <td>n</td>\n",
       "      <td>n</td>\n",
       "      <td>n</td>\n",
       "      <td>n</td>\n",
       "      <td>n</td>\n",
       "      <td>n</td>\n",
       "    </tr>\n",
       "    <tr>\n",
       "      <th>25</th>\n",
       "      <td>1946ja</td>\n",
       "      <td>鼻づまりで深い度数満タンだから、炎で鼻燃やしてくる。</td>\n",
       "      <td>n</td>\n",
       "      <td>n</td>\n",
       "      <td>n</td>\n",
       "      <td>n</td>\n",
       "      <td>n</td>\n",
       "      <td>n</td>\n",
       "      <td>p</td>\n",
       "      <td>n</td>\n",
       "    </tr>\n",
       "    <tr>\n",
       "      <th>26</th>\n",
       "      <td>1947ja</td>\n",
       "      <td>甲高い女性の声を聴くだけで、頭痛が酷くなる。頼むから声落としてくれないかな。</td>\n",
       "      <td>n</td>\n",
       "      <td>n</td>\n",
       "      <td>n</td>\n",
       "      <td>n</td>\n",
       "      <td>p</td>\n",
       "      <td>n</td>\n",
       "      <td>n</td>\n",
       "      <td>n</td>\n",
       "    </tr>\n",
       "    <tr>\n",
       "      <th>27</th>\n",
       "      <td>1948ja</td>\n",
       "      <td>頭痛に対する対策が必要だ</td>\n",
       "      <td>n</td>\n",
       "      <td>n</td>\n",
       "      <td>n</td>\n",
       "      <td>n</td>\n",
       "      <td>p</td>\n",
       "      <td>n</td>\n",
       "      <td>n</td>\n",
       "      <td>n</td>\n",
       "    </tr>\n",
       "    <tr>\n",
       "      <th>28</th>\n",
       "      <td>1949ja</td>\n",
       "      <td>今朝、だるいし眠いし、おかしいなぁと思っていたら寒気も出てきて、どうも風邪のようだ。この時期...</td>\n",
       "      <td>n</td>\n",
       "      <td>n</td>\n",
       "      <td>n</td>\n",
       "      <td>n</td>\n",
       "      <td>n</td>\n",
       "      <td>n</td>\n",
       "      <td>n</td>\n",
       "      <td>p</td>\n",
       "    </tr>\n",
       "    <tr>\n",
       "      <th>29</th>\n",
       "      <td>1950ja</td>\n",
       "      <td>花粉症が再発してしまいましたとさ。</td>\n",
       "      <td>n</td>\n",
       "      <td>n</td>\n",
       "      <td>p</td>\n",
       "      <td>n</td>\n",
       "      <td>n</td>\n",
       "      <td>n</td>\n",
       "      <td>p</td>\n",
       "      <td>n</td>\n",
       "    </tr>\n",
       "    <tr>\n",
       "      <th>...</th>\n",
       "      <td>...</td>\n",
       "      <td>...</td>\n",
       "      <td>...</td>\n",
       "      <td>...</td>\n",
       "      <td>...</td>\n",
       "      <td>...</td>\n",
       "      <td>...</td>\n",
       "      <td>...</td>\n",
       "      <td>...</td>\n",
       "      <td>...</td>\n",
       "    </tr>\n",
       "    <tr>\n",
       "      <th>70</th>\n",
       "      <td>1991ja</td>\n",
       "      <td>携帯が熱をもったから涼しい場所で冷却</td>\n",
       "      <td>n</td>\n",
       "      <td>n</td>\n",
       "      <td>n</td>\n",
       "      <td>n</td>\n",
       "      <td>n</td>\n",
       "      <td>n</td>\n",
       "      <td>n</td>\n",
       "      <td>n</td>\n",
       "    </tr>\n",
       "    <tr>\n",
       "      <th>71</th>\n",
       "      <td>1992ja</td>\n",
       "      <td>鼻水もう無理だからから薬買ってきた。ねむい。</td>\n",
       "      <td>n</td>\n",
       "      <td>n</td>\n",
       "      <td>n</td>\n",
       "      <td>n</td>\n",
       "      <td>n</td>\n",
       "      <td>n</td>\n",
       "      <td>p</td>\n",
       "      <td>n</td>\n",
       "    </tr>\n",
       "    <tr>\n",
       "      <th>72</th>\n",
       "      <td>1993ja</td>\n",
       "      <td>なんか鼻風邪、薬ほしい</td>\n",
       "      <td>n</td>\n",
       "      <td>n</td>\n",
       "      <td>n</td>\n",
       "      <td>n</td>\n",
       "      <td>n</td>\n",
       "      <td>n</td>\n",
       "      <td>p</td>\n",
       "      <td>p</td>\n",
       "    </tr>\n",
       "    <tr>\n",
       "      <th>73</th>\n",
       "      <td>1994ja</td>\n",
       "      <td>朝起きたら下痢気味でやばい</td>\n",
       "      <td>n</td>\n",
       "      <td>p</td>\n",
       "      <td>n</td>\n",
       "      <td>n</td>\n",
       "      <td>n</td>\n",
       "      <td>n</td>\n",
       "      <td>n</td>\n",
       "      <td>n</td>\n",
       "    </tr>\n",
       "    <tr>\n",
       "      <th>74</th>\n",
       "      <td>1995ja</td>\n",
       "      <td>鼻づまり。呼吸無理だ！</td>\n",
       "      <td>n</td>\n",
       "      <td>n</td>\n",
       "      <td>n</td>\n",
       "      <td>n</td>\n",
       "      <td>n</td>\n",
       "      <td>n</td>\n",
       "      <td>p</td>\n",
       "      <td>n</td>\n",
       "    </tr>\n",
       "    <tr>\n",
       "      <th>75</th>\n",
       "      <td>1996ja</td>\n",
       "      <td>ネパールの激辛料理を食べるとその後はいつも下痢だよ。</td>\n",
       "      <td>n</td>\n",
       "      <td>n</td>\n",
       "      <td>n</td>\n",
       "      <td>n</td>\n",
       "      <td>n</td>\n",
       "      <td>n</td>\n",
       "      <td>n</td>\n",
       "      <td>n</td>\n",
       "    </tr>\n",
       "    <tr>\n",
       "      <th>76</th>\n",
       "      <td>1997ja</td>\n",
       "      <td>マスクしてる人が多いけど、そろそろインフルエンザの季節か。</td>\n",
       "      <td>n</td>\n",
       "      <td>n</td>\n",
       "      <td>n</td>\n",
       "      <td>n</td>\n",
       "      <td>n</td>\n",
       "      <td>n</td>\n",
       "      <td>n</td>\n",
       "      <td>n</td>\n",
       "    </tr>\n",
       "    <tr>\n",
       "      <th>77</th>\n",
       "      <td>1998ja</td>\n",
       "      <td>インフル薬飲んだら速攻回復した</td>\n",
       "      <td>p</td>\n",
       "      <td>n</td>\n",
       "      <td>n</td>\n",
       "      <td>n</td>\n",
       "      <td>n</td>\n",
       "      <td>p</td>\n",
       "      <td>n</td>\n",
       "      <td>n</td>\n",
       "    </tr>\n",
       "    <tr>\n",
       "      <th>78</th>\n",
       "      <td>1999ja</td>\n",
       "      <td>頭痛が苦痛だしきついぜ</td>\n",
       "      <td>n</td>\n",
       "      <td>n</td>\n",
       "      <td>n</td>\n",
       "      <td>n</td>\n",
       "      <td>p</td>\n",
       "      <td>n</td>\n",
       "      <td>n</td>\n",
       "      <td>n</td>\n",
       "    </tr>\n",
       "    <tr>\n",
       "      <th>79</th>\n",
       "      <td>2000ja</td>\n",
       "      <td>スペインで風邪が流行ってるって聞いたけど、そっちは大丈夫？？</td>\n",
       "      <td>n</td>\n",
       "      <td>n</td>\n",
       "      <td>n</td>\n",
       "      <td>n</td>\n",
       "      <td>n</td>\n",
       "      <td>n</td>\n",
       "      <td>n</td>\n",
       "      <td>n</td>\n",
       "    </tr>\n",
       "    <tr>\n",
       "      <th>80</th>\n",
       "      <td>2001ja</td>\n",
       "      <td>また鳥インフルだって、怖い</td>\n",
       "      <td>n</td>\n",
       "      <td>n</td>\n",
       "      <td>n</td>\n",
       "      <td>n</td>\n",
       "      <td>n</td>\n",
       "      <td>n</td>\n",
       "      <td>n</td>\n",
       "      <td>n</td>\n",
       "    </tr>\n",
       "    <tr>\n",
       "      <th>81</th>\n",
       "      <td>2002ja</td>\n",
       "      <td>咳がひどくて、腹筋痛い。</td>\n",
       "      <td>n</td>\n",
       "      <td>n</td>\n",
       "      <td>n</td>\n",
       "      <td>p</td>\n",
       "      <td>n</td>\n",
       "      <td>n</td>\n",
       "      <td>n</td>\n",
       "      <td>n</td>\n",
       "    </tr>\n",
       "    <tr>\n",
       "      <th>82</th>\n",
       "      <td>2003ja</td>\n",
       "      <td>花粉症で学校休む奴は少ないよな。</td>\n",
       "      <td>n</td>\n",
       "      <td>n</td>\n",
       "      <td>n</td>\n",
       "      <td>n</td>\n",
       "      <td>n</td>\n",
       "      <td>n</td>\n",
       "      <td>n</td>\n",
       "      <td>n</td>\n",
       "    </tr>\n",
       "    <tr>\n",
       "      <th>83</th>\n",
       "      <td>2004ja</td>\n",
       "      <td>兄貴がインフルになったから移されそうで怖い。</td>\n",
       "      <td>p</td>\n",
       "      <td>n</td>\n",
       "      <td>n</td>\n",
       "      <td>n</td>\n",
       "      <td>n</td>\n",
       "      <td>p</td>\n",
       "      <td>n</td>\n",
       "      <td>n</td>\n",
       "    </tr>\n",
       "    <tr>\n",
       "      <th>84</th>\n",
       "      <td>2005ja</td>\n",
       "      <td>ボーっとしているし眠いし、完全に風邪だと思う。</td>\n",
       "      <td>n</td>\n",
       "      <td>n</td>\n",
       "      <td>n</td>\n",
       "      <td>n</td>\n",
       "      <td>n</td>\n",
       "      <td>n</td>\n",
       "      <td>n</td>\n",
       "      <td>p</td>\n",
       "    </tr>\n",
       "    <tr>\n",
       "      <th>85</th>\n",
       "      <td>2006ja</td>\n",
       "      <td>鼻風邪をだれか止める魔法かけてくれー！！</td>\n",
       "      <td>n</td>\n",
       "      <td>n</td>\n",
       "      <td>n</td>\n",
       "      <td>n</td>\n",
       "      <td>n</td>\n",
       "      <td>n</td>\n",
       "      <td>p</td>\n",
       "      <td>p</td>\n",
       "    </tr>\n",
       "    <tr>\n",
       "      <th>86</th>\n",
       "      <td>2007ja</td>\n",
       "      <td>風邪を引いても解熱してもいちいちブログを更新してて、あそこまでいくともう病気だなーと思った。</td>\n",
       "      <td>n</td>\n",
       "      <td>n</td>\n",
       "      <td>n</td>\n",
       "      <td>n</td>\n",
       "      <td>n</td>\n",
       "      <td>n</td>\n",
       "      <td>n</td>\n",
       "      <td>n</td>\n",
       "    </tr>\n",
       "    <tr>\n",
       "      <th>87</th>\n",
       "      <td>2008ja</td>\n",
       "      <td>朝から頭痛がやばい。こんなに痛いのは久し振りだ。</td>\n",
       "      <td>n</td>\n",
       "      <td>n</td>\n",
       "      <td>n</td>\n",
       "      <td>n</td>\n",
       "      <td>p</td>\n",
       "      <td>n</td>\n",
       "      <td>n</td>\n",
       "      <td>n</td>\n",
       "    </tr>\n",
       "    <tr>\n",
       "      <th>88</th>\n",
       "      <td>2009ja</td>\n",
       "      <td>寒気するし完全に風邪っぽい。マジ最悪だ。</td>\n",
       "      <td>n</td>\n",
       "      <td>n</td>\n",
       "      <td>n</td>\n",
       "      <td>n</td>\n",
       "      <td>n</td>\n",
       "      <td>n</td>\n",
       "      <td>n</td>\n",
       "      <td>p</td>\n",
       "    </tr>\n",
       "    <tr>\n",
       "      <th>89</th>\n",
       "      <td>2010ja</td>\n",
       "      <td>鼻水ダラダラに熱４０度。お腹は下すは体ボロボロ。</td>\n",
       "      <td>n</td>\n",
       "      <td>p</td>\n",
       "      <td>n</td>\n",
       "      <td>n</td>\n",
       "      <td>n</td>\n",
       "      <td>p</td>\n",
       "      <td>p</td>\n",
       "      <td>n</td>\n",
       "    </tr>\n",
       "    <tr>\n",
       "      <th>90</th>\n",
       "      <td>2011ja</td>\n",
       "      <td>鼻づまりが解消して嬉しいわ</td>\n",
       "      <td>n</td>\n",
       "      <td>n</td>\n",
       "      <td>n</td>\n",
       "      <td>n</td>\n",
       "      <td>n</td>\n",
       "      <td>n</td>\n",
       "      <td>n</td>\n",
       "      <td>n</td>\n",
       "    </tr>\n",
       "    <tr>\n",
       "      <th>91</th>\n",
       "      <td>2012ja</td>\n",
       "      <td>ただの風邪だと思っていたらおたふく風邪だと診断された。</td>\n",
       "      <td>n</td>\n",
       "      <td>n</td>\n",
       "      <td>n</td>\n",
       "      <td>n</td>\n",
       "      <td>n</td>\n",
       "      <td>n</td>\n",
       "      <td>n</td>\n",
       "      <td>n</td>\n",
       "    </tr>\n",
       "    <tr>\n",
       "      <th>92</th>\n",
       "      <td>2013ja</td>\n",
       "      <td>兄が部活でインフルうつされて爆笑！</td>\n",
       "      <td>p</td>\n",
       "      <td>n</td>\n",
       "      <td>n</td>\n",
       "      <td>n</td>\n",
       "      <td>n</td>\n",
       "      <td>p</td>\n",
       "      <td>n</td>\n",
       "      <td>n</td>\n",
       "    </tr>\n",
       "    <tr>\n",
       "      <th>93</th>\n",
       "      <td>2014ja</td>\n",
       "      <td>疲れるせいか痰が絡む。</td>\n",
       "      <td>n</td>\n",
       "      <td>n</td>\n",
       "      <td>n</td>\n",
       "      <td>p</td>\n",
       "      <td>n</td>\n",
       "      <td>n</td>\n",
       "      <td>n</td>\n",
       "      <td>n</td>\n",
       "    </tr>\n",
       "    <tr>\n",
       "      <th>94</th>\n",
       "      <td>2015ja</td>\n",
       "      <td>くしゃみが止まらない、まさか花粉症かも</td>\n",
       "      <td>n</td>\n",
       "      <td>n</td>\n",
       "      <td>p</td>\n",
       "      <td>n</td>\n",
       "      <td>n</td>\n",
       "      <td>n</td>\n",
       "      <td>p</td>\n",
       "      <td>n</td>\n",
       "    </tr>\n",
       "    <tr>\n",
       "      <th>95</th>\n",
       "      <td>2016ja</td>\n",
       "      <td>咳と痰が止まる気配がないっぽいんだけどこれいつ止まるの誰か教えて。</td>\n",
       "      <td>n</td>\n",
       "      <td>n</td>\n",
       "      <td>n</td>\n",
       "      <td>p</td>\n",
       "      <td>n</td>\n",
       "      <td>n</td>\n",
       "      <td>n</td>\n",
       "      <td>n</td>\n",
       "    </tr>\n",
       "    <tr>\n",
       "      <th>96</th>\n",
       "      <td>2017ja</td>\n",
       "      <td>下痢がひどい・・・昨日食った海鮮丼があたったかも。</td>\n",
       "      <td>n</td>\n",
       "      <td>p</td>\n",
       "      <td>n</td>\n",
       "      <td>n</td>\n",
       "      <td>n</td>\n",
       "      <td>n</td>\n",
       "      <td>n</td>\n",
       "      <td>n</td>\n",
       "    </tr>\n",
       "    <tr>\n",
       "      <th>97</th>\n",
       "      <td>2018ja</td>\n",
       "      <td>咳を我慢してたら、腹筋がひきつって痛い・・・。</td>\n",
       "      <td>n</td>\n",
       "      <td>n</td>\n",
       "      <td>n</td>\n",
       "      <td>p</td>\n",
       "      <td>n</td>\n",
       "      <td>n</td>\n",
       "      <td>n</td>\n",
       "      <td>n</td>\n",
       "    </tr>\n",
       "    <tr>\n",
       "      <th>98</th>\n",
       "      <td>2019ja</td>\n",
       "      <td>鼻づまり解消スプレーがすばらしすぎる。</td>\n",
       "      <td>n</td>\n",
       "      <td>n</td>\n",
       "      <td>n</td>\n",
       "      <td>n</td>\n",
       "      <td>n</td>\n",
       "      <td>n</td>\n",
       "      <td>p</td>\n",
       "      <td>n</td>\n",
       "    </tr>\n",
       "    <tr>\n",
       "      <th>99</th>\n",
       "      <td>2020ja</td>\n",
       "      <td>宇宙について考えすぎて頭痛がしてきた</td>\n",
       "      <td>n</td>\n",
       "      <td>n</td>\n",
       "      <td>n</td>\n",
       "      <td>n</td>\n",
       "      <td>n</td>\n",
       "      <td>n</td>\n",
       "      <td>n</td>\n",
       "      <td>n</td>\n",
       "    </tr>\n",
       "  </tbody>\n",
       "</table>\n",
       "<p>100 rows × 10 columns</p>\n",
       "</div>"
      ],
      "text/plain": [
       "        ID                                              Tweet Influenza  \\\n",
       "0   1921ja                             旅行に行ったら、土産にインフルもらってきた。         p   \n",
       "1   1922ja                                         きつい上司、頭痛の種         n   \n",
       "2   1923ja         もう誰か翻訳してくれないときつい、宇宙の言葉ですかってくらい通じなくて頭痛してきた。         n   \n",
       "3   1924ja                                         インフル感染の危機。         p   \n",
       "4   1925ja                                 鼻づまりがひどいからスピーチは無理だ         n   \n",
       "5   1926ja                                  頭痛がしているので帰ることにする。         n   \n",
       "6   1927ja                          インフルエンザになって部活のみんなから爆笑されたよ         p   \n",
       "7   1928ja                                  下痢って英語でなんていうんだろう。         n   \n",
       "8   1929ja                       スペイン風邪、香港風邪っていうけど、日本風邪ってあるの？         n   \n",
       "9   1930ja                                    犬って鼻づまりとかするのかな？         n   \n",
       "10  1931ja                          起きると下痢、寝てても下痢、何時も下痢・・・つらい         n   \n",
       "11  1932ja                                     花粉症の時期はすごい疲れる。         n   \n",
       "12  1933ja                           おたふく風邪は感染力が強いらしいから、大変だね。         n   \n",
       "13  1934ja                         一人暮らしの風邪大変だって聞いてたけど想像超えてきた         n   \n",
       "14  1935ja             今日は突然の熱で仕事を休んだ。昨日は涼しいを越えて寒いところにいたからなぁ。         n   \n",
       "15  1936ja     花粉症で病院に行った時に処方された薬もちゃんと使ってるんだけど、効果があまり出ないんだよね。         n   \n",
       "16  1937ja                              寒気がする。本格的な風邪だ。これで休める。         n   \n",
       "17  1938ja                                      朝から寝るまでずっと頭痛だ         n   \n",
       "18  1939ja                                     誰が巫女に熱あげているって？         n   \n",
       "19  1940ja                                東京に来てから鼻水が止まらない・・・。         n   \n",
       "20  1941ja                               咳、痰がでたら、間もなく高熱でるかもね。         n   \n",
       "21  1942ja                                  頭痛以外は症状ないんだけどなあ〜。         n   \n",
       "22  1943ja                           公園で犬と戯れてたら、鼻水が止まらなくなったぜ。         n   \n",
       "23  1944ja                                  今年風邪にかかったのは君が最初だ。         n   \n",
       "24  1945ja                        ところで、頭痛持ちの人ってみんないつからそうなったの？         n   \n",
       "25  1946ja                         鼻づまりで深い度数満タンだから、炎で鼻燃やしてくる。         n   \n",
       "26  1947ja             甲高い女性の声を聴くだけで、頭痛が酷くなる。頼むから声落としてくれないかな。         n   \n",
       "27  1948ja                                       頭痛に対する対策が必要だ         n   \n",
       "28  1949ja  今朝、だるいし眠いし、おかしいなぁと思っていたら寒気も出てきて、どうも風邪のようだ。この時期...         n   \n",
       "29  1950ja                                  花粉症が再発してしまいましたとさ。         n   \n",
       "..     ...                                                ...       ...   \n",
       "70  1991ja                                 携帯が熱をもったから涼しい場所で冷却         n   \n",
       "71  1992ja                             鼻水もう無理だからから薬買ってきた。ねむい。         n   \n",
       "72  1993ja                                        なんか鼻風邪、薬ほしい         n   \n",
       "73  1994ja                                      朝起きたら下痢気味でやばい         n   \n",
       "74  1995ja                                        鼻づまり。呼吸無理だ！         n   \n",
       "75  1996ja                         ネパールの激辛料理を食べるとその後はいつも下痢だよ。         n   \n",
       "76  1997ja                      マスクしてる人が多いけど、そろそろインフルエンザの季節か。         n   \n",
       "77  1998ja                                    インフル薬飲んだら速攻回復した         p   \n",
       "78  1999ja                                        頭痛が苦痛だしきついぜ         n   \n",
       "79  2000ja                     スペインで風邪が流行ってるって聞いたけど、そっちは大丈夫？？         n   \n",
       "80  2001ja                                      また鳥インフルだって、怖い         n   \n",
       "81  2002ja                                       咳がひどくて、腹筋痛い。         n   \n",
       "82  2003ja                                   花粉症で学校休む奴は少ないよな。         n   \n",
       "83  2004ja                             兄貴がインフルになったから移されそうで怖い。         p   \n",
       "84  2005ja                            ボーっとしているし眠いし、完全に風邪だと思う。         n   \n",
       "85  2006ja                               鼻風邪をだれか止める魔法かけてくれー！！         n   \n",
       "86  2007ja     風邪を引いても解熱してもいちいちブログを更新してて、あそこまでいくともう病気だなーと思った。         n   \n",
       "87  2008ja                           朝から頭痛がやばい。こんなに痛いのは久し振りだ。         n   \n",
       "88  2009ja                               寒気するし完全に風邪っぽい。マジ最悪だ。         n   \n",
       "89  2010ja                           鼻水ダラダラに熱４０度。お腹は下すは体ボロボロ。         n   \n",
       "90  2011ja                                      鼻づまりが解消して嬉しいわ         n   \n",
       "91  2012ja                        ただの風邪だと思っていたらおたふく風邪だと診断された。         n   \n",
       "92  2013ja                                  兄が部活でインフルうつされて爆笑！         p   \n",
       "93  2014ja                                        疲れるせいか痰が絡む。         n   \n",
       "94  2015ja                                くしゃみが止まらない、まさか花粉症かも         n   \n",
       "95  2016ja                  咳と痰が止まる気配がないっぽいんだけどこれいつ止まるの誰か教えて。         n   \n",
       "96  2017ja                          下痢がひどい・・・昨日食った海鮮丼があたったかも。         n   \n",
       "97  2018ja                            咳を我慢してたら、腹筋がひきつって痛い・・・。         n   \n",
       "98  2019ja                                鼻づまり解消スプレーがすばらしすぎる。         n   \n",
       "99  2020ja                                 宇宙について考えすぎて頭痛がしてきた         n   \n",
       "\n",
       "   Diarrhea Hayfever Cough Headache Fever Runnynose Cold  \n",
       "0         n        n     n        n     p         n    n  \n",
       "1         n        n     n        n     n         n    n  \n",
       "2         n        n     n        n     n         n    n  \n",
       "3         n        n     n        n     p         n    n  \n",
       "4         n        n     n        n     n         p    n  \n",
       "5         n        n     n        p     n         n    n  \n",
       "6         n        n     n        n     p         n    n  \n",
       "7         n        n     n        n     n         n    n  \n",
       "8         n        n     n        n     n         n    n  \n",
       "9         n        n     n        n     n         n    n  \n",
       "10        p        n     n        n     n         n    n  \n",
       "11        n        p     n        n     n         p    n  \n",
       "12        n        n     n        n     n         n    n  \n",
       "13        n        n     n        n     n         n    p  \n",
       "14        n        n     n        n     p         n    n  \n",
       "15        n        p     n        n     n         p    n  \n",
       "16        n        n     n        n     n         n    p  \n",
       "17        n        n     n        p     n         n    n  \n",
       "18        n        n     n        n     n         n    n  \n",
       "19        n        n     n        n     n         p    n  \n",
       "20        n        n     p        n     n         n    n  \n",
       "21        n        n     n        p     n         n    n  \n",
       "22        n        n     n        n     n         p    n  \n",
       "23        n        n     n        n     n         n    p  \n",
       "24        n        n     n        n     n         n    n  \n",
       "25        n        n     n        n     n         p    n  \n",
       "26        n        n     n        p     n         n    n  \n",
       "27        n        n     n        p     n         n    n  \n",
       "28        n        n     n        n     n         n    p  \n",
       "29        n        p     n        n     n         p    n  \n",
       "..      ...      ...   ...      ...   ...       ...  ...  \n",
       "70        n        n     n        n     n         n    n  \n",
       "71        n        n     n        n     n         p    n  \n",
       "72        n        n     n        n     n         p    p  \n",
       "73        p        n     n        n     n         n    n  \n",
       "74        n        n     n        n     n         p    n  \n",
       "75        n        n     n        n     n         n    n  \n",
       "76        n        n     n        n     n         n    n  \n",
       "77        n        n     n        n     p         n    n  \n",
       "78        n        n     n        p     n         n    n  \n",
       "79        n        n     n        n     n         n    n  \n",
       "80        n        n     n        n     n         n    n  \n",
       "81        n        n     p        n     n         n    n  \n",
       "82        n        n     n        n     n         n    n  \n",
       "83        n        n     n        n     p         n    n  \n",
       "84        n        n     n        n     n         n    p  \n",
       "85        n        n     n        n     n         p    p  \n",
       "86        n        n     n        n     n         n    n  \n",
       "87        n        n     n        p     n         n    n  \n",
       "88        n        n     n        n     n         n    p  \n",
       "89        p        n     n        n     p         p    n  \n",
       "90        n        n     n        n     n         n    n  \n",
       "91        n        n     n        n     n         n    n  \n",
       "92        n        n     n        n     p         n    n  \n",
       "93        n        n     p        n     n         n    n  \n",
       "94        n        p     n        n     n         p    n  \n",
       "95        n        n     p        n     n         n    n  \n",
       "96        p        n     n        n     n         n    n  \n",
       "97        n        n     p        n     n         n    n  \n",
       "98        n        n     n        n     n         p    n  \n",
       "99        n        n     n        n     n         n    n  \n",
       "\n",
       "[100 rows x 10 columns]"
      ]
     },
     "execution_count": 19,
     "metadata": {},
     "output_type": "execute_result"
    }
   ],
   "source": [
    "tst.head(100)"
   ]
  },
  {
   "cell_type": "code",
   "execution_count": 20,
   "metadata": {},
   "outputs": [],
   "source": [
    "tst_lbl = []\n",
    "for i, row in tst.iterrows():\n",
    "    tst_lbl.append(lbl_idx[(row[2:]=='p').values])"
   ]
  },
  {
   "cell_type": "code",
   "execution_count": 21,
   "metadata": {},
   "outputs": [
    {
     "data": {
      "text/plain": [
       "[array([0, 5]),\n",
       " array([], dtype=int64),\n",
       " array([], dtype=int64),\n",
       " array([0, 5]),\n",
       " array([6])]"
      ]
     },
     "execution_count": 21,
     "metadata": {},
     "output_type": "execute_result"
    }
   ],
   "source": [
    "tst_lbl[:5]"
   ]
  },
  {
   "cell_type": "code",
   "execution_count": 22,
   "metadata": {},
   "outputs": [
    {
     "data": {
      "text/plain": [
       "Index(['Influenza', 'Diarrhea', 'Hayfever', 'Cough', 'Headache', 'Fever',\n",
       "       'Runnynose', 'Cold'],\n",
       "      dtype='object')"
      ]
     },
     "execution_count": 22,
     "metadata": {},
     "output_type": "execute_result"
    }
   ],
   "source": [
    "# name of labels\n",
    "lbl_names = tst.columns[2:]\n",
    "lbl_names"
   ]
  },
  {
   "cell_type": "code",
   "execution_count": 23,
   "metadata": {},
   "outputs": [],
   "source": [
    "# put data into df and save\n",
    "tst_df = pd.DataFrame({'text':tst['Tweet'].values, 'labels':tst_lbl},columns=['labels', 'text'])\n",
    "# change name from test to valid (fastai lm expects valid)\n",
    "tst_df.to_csv('data/MedWeb/valid.csv', header=False, index=False)\n"
   ]
  },
  {
   "cell_type": "code",
   "execution_count": 24,
   "metadata": {},
   "outputs": [
    {
     "data": {
      "text/html": [
       "<div>\n",
       "<style scoped>\n",
       "    .dataframe tbody tr th:only-of-type {\n",
       "        vertical-align: middle;\n",
       "    }\n",
       "\n",
       "    .dataframe tbody tr th {\n",
       "        vertical-align: top;\n",
       "    }\n",
       "\n",
       "    .dataframe thead th {\n",
       "        text-align: right;\n",
       "    }\n",
       "</style>\n",
       "<table border=\"1\" class=\"dataframe\">\n",
       "  <thead>\n",
       "    <tr style=\"text-align: right;\">\n",
       "      <th></th>\n",
       "      <th>labels</th>\n",
       "      <th>text</th>\n",
       "    </tr>\n",
       "  </thead>\n",
       "  <tbody>\n",
       "    <tr>\n",
       "      <th>0</th>\n",
       "      <td>[0, 5]</td>\n",
       "      <td>旅行に行ったら、土産にインフルもらってきた。</td>\n",
       "    </tr>\n",
       "    <tr>\n",
       "      <th>1</th>\n",
       "      <td>[]</td>\n",
       "      <td>きつい上司、頭痛の種</td>\n",
       "    </tr>\n",
       "    <tr>\n",
       "      <th>2</th>\n",
       "      <td>[]</td>\n",
       "      <td>もう誰か翻訳してくれないときつい、宇宙の言葉ですかってくらい通じなくて頭痛してきた。</td>\n",
       "    </tr>\n",
       "    <tr>\n",
       "      <th>3</th>\n",
       "      <td>[0, 5]</td>\n",
       "      <td>インフル感染の危機。</td>\n",
       "    </tr>\n",
       "    <tr>\n",
       "      <th>4</th>\n",
       "      <td>[6]</td>\n",
       "      <td>鼻づまりがひどいからスピーチは無理だ</td>\n",
       "    </tr>\n",
       "  </tbody>\n",
       "</table>\n",
       "</div>"
      ],
      "text/plain": [
       "   labels                                        text\n",
       "0  [0, 5]                      旅行に行ったら、土産にインフルもらってきた。\n",
       "1      []                                  きつい上司、頭痛の種\n",
       "2      []  もう誰か翻訳してくれないときつい、宇宙の言葉ですかってくらい通じなくて頭痛してきた。\n",
       "3  [0, 5]                                  インフル感染の危機。\n",
       "4     [6]                          鼻づまりがひどいからスピーチは無理だ"
      ]
     },
     "execution_count": 24,
     "metadata": {},
     "output_type": "execute_result"
    }
   ],
   "source": [
    "tst_df.head()"
   ]
  },
  {
   "cell_type": "markdown",
   "metadata": {},
   "source": [
    "## prepare data for lm fine tuning and classification\n",
    "basically copying from train_cls.py"
   ]
  },
  {
   "cell_type": "code",
   "execution_count": 25,
   "metadata": {},
   "outputs": [],
   "source": [
    "data_dir='data'\n",
    "lang='ja' \n",
    "cuda_id=0 \n",
    "pretrain_name='wt-100' \n",
    "model_dir='data/wiki/ja-100/models'\n",
    "qrnn=True\n",
    "fine_tune=True \n",
    "max_vocab=16000\n",
    "bs=20 \n",
    "bptt=70 \n",
    "name='MedWeb-clas'\n",
    "dataset='MedWeb' \n",
    "ds_pct=1.0\n",
    "spm_dir = 'data/wiki/ja/'"
   ]
  },
  {
   "cell_type": "code",
   "execution_count": 26,
   "metadata": {},
   "outputs": [
    {
     "name": "stdout",
     "output_type": "stream",
     "text": [
      "Dataset: MedWeb. Language: ja.\n"
     ]
    }
   ],
   "source": [
    "results={}\n",
    "if not torch.cuda.is_available():\n",
    "    print('CUDA not available. Setting device=-1.')\n",
    "    cuda_id = -1\n",
    "torch.cuda.set_device(cuda_id)\n",
    "\n",
    "print(f'Dataset: {dataset}. Language: {lang}.')"
   ]
  },
  {
   "cell_type": "code",
   "execution_count": 27,
   "metadata": {},
   "outputs": [
    {
     "name": "stdout",
     "output_type": "stream",
     "text": [
      "Using QRNNs...\n"
     ]
    }
   ],
   "source": [
    "data_dir = Path(data_dir)\n",
    "assert data_dir.name == 'data',\\\n",
    "    f'Error: Name of data directory should be data, not {data_dir.name}.'\n",
    "dataset_dir = data_dir / dataset\n",
    "model_dir = Path(model_dir)\n",
    "\n",
    "\n",
    "if qrnn:\n",
    "    print('Using QRNNs...')\n",
    "model_name = 'qrnn' if qrnn else 'lstm'\n",
    "lm_name = f'{model_name}_{pretrain_name}'\n",
    "pretrained_fname = (lm_name, f'itos_{pretrain_name}')\n",
    "\n",
    "ensure_paths_exists(data_dir,\n",
    "                    dataset_dir,\n",
    "                    model_dir,\n",
    "                    model_dir/f\"{pretrained_fname[0]}.pth\",\n",
    "                    model_dir/f\"{pretrained_fname[1]}.pkl\")\n",
    "\n",
    "\n",
    "tmp_dir = dataset_dir / 'tmp'\n",
    "tmp_dir.mkdir(exist_ok=True)\n",
    "vocab_file = tmp_dir / f'vocab_{lang}.pkl'"
   ]
  },
  {
   "cell_type": "code",
   "execution_count": 28,
   "metadata": {},
   "outputs": [],
   "source": [
    "# here we're just loading the trained spm model\n",
    "sp = get_sentencepiece(spm_dir, None, 'wt-all', vocab_size=max_vocab)"
   ]
  },
  {
   "cell_type": "code",
   "execution_count": 29,
   "metadata": {},
   "outputs": [],
   "source": [
    "# load train, valid in df\n",
    "train_df = pd.read_csv(dataset_dir/'train.csv',header=None)\n",
    "valid_df = pd.read_csv(dataset_dir/'valid.csv',header=None)"
   ]
  },
  {
   "cell_type": "code",
   "execution_count": 30,
   "metadata": {
    "scrolled": true
   },
   "outputs": [
    {
     "data": {
      "text/html": [
       "<div>\n",
       "<style scoped>\n",
       "    .dataframe tbody tr th:only-of-type {\n",
       "        vertical-align: middle;\n",
       "    }\n",
       "\n",
       "    .dataframe tbody tr th {\n",
       "        vertical-align: top;\n",
       "    }\n",
       "\n",
       "    .dataframe thead th {\n",
       "        text-align: right;\n",
       "    }\n",
       "</style>\n",
       "<table border=\"1\" class=\"dataframe\">\n",
       "  <thead>\n",
       "    <tr style=\"text-align: right;\">\n",
       "      <th></th>\n",
       "      <th>0</th>\n",
       "      <th>1</th>\n",
       "    </tr>\n",
       "  </thead>\n",
       "  <tbody>\n",
       "    <tr>\n",
       "      <th>0</th>\n",
       "      <td>[7]</td>\n",
       "      <td>風邪を引くと全身がだるくなる。</td>\n",
       "    </tr>\n",
       "    <tr>\n",
       "      <th>1</th>\n",
       "      <td>[2 6]</td>\n",
       "      <td>花粉症の症状が出てきたのは久し振りだ。</td>\n",
       "    </tr>\n",
       "    <tr>\n",
       "      <th>2</th>\n",
       "      <td>[2 5 6]</td>\n",
       "      <td>花粉症のせいでずっと微熱でぼーっとしてる。眠い。</td>\n",
       "    </tr>\n",
       "    <tr>\n",
       "      <th>3</th>\n",
       "      <td>[6]</td>\n",
       "      <td>薬飲んだけど鼻水おさまる気配なし</td>\n",
       "    </tr>\n",
       "    <tr>\n",
       "      <th>4</th>\n",
       "      <td>[]</td>\n",
       "      <td>ネパールに旅行に行った際に下痢になって大変だったよ。</td>\n",
       "    </tr>\n",
       "  </tbody>\n",
       "</table>\n",
       "</div>"
      ],
      "text/plain": [
       "         0                           1\n",
       "0      [7]             風邪を引くと全身がだるくなる。\n",
       "1    [2 6]         花粉症の症状が出てきたのは久し振りだ。\n",
       "2  [2 5 6]    花粉症のせいでずっと微熱でぼーっとしてる。眠い。\n",
       "3      [6]            薬飲んだけど鼻水おさまる気配なし\n",
       "4       []  ネパールに旅行に行った際に下痢になって大変だったよ。"
      ]
     },
     "execution_count": 30,
     "metadata": {},
     "output_type": "execute_result"
    }
   ],
   "source": [
    "train_df.head()"
   ]
  },
  {
   "cell_type": "code",
   "execution_count": 31,
   "metadata": {},
   "outputs": [],
   "source": [
    "def strip_brackets(s):\n",
    "    return s.strip('[]')"
   ]
  },
  {
   "cell_type": "code",
   "execution_count": 32,
   "metadata": {},
   "outputs": [],
   "source": [
    "train_df[0] = train_df[0].apply(strip_brackets)"
   ]
  },
  {
   "cell_type": "code",
   "execution_count": 33,
   "metadata": {
    "scrolled": true
   },
   "outputs": [],
   "source": [
    "valid_df[0] = valid_df[0].apply(strip_brackets)"
   ]
  },
  {
   "cell_type": "code",
   "execution_count": 34,
   "metadata": {
    "scrolled": true
   },
   "outputs": [
    {
     "data": {
      "text/plain": [
       "[['2'], [' '], ['6']]"
      ]
     },
     "execution_count": 34,
     "metadata": {},
     "output_type": "execute_result"
    }
   ],
   "source": [
    "list(csv.reader(train_df.loc[1,0]))"
   ]
  },
  {
   "cell_type": "markdown",
   "metadata": {},
   "source": [
    "### lm data"
   ]
  },
  {
   "cell_type": "code",
   "execution_count": 35,
   "metadata": {},
   "outputs": [],
   "source": [
    "# set label_delim for multilabel (MultiCategory) data\n",
    "data_lm = TextLMDataBunch.from_df(path=dataset_dir,train_df=train_df,valid_df=valid_df,label_delim=' ',**sp)"
   ]
  },
  {
   "cell_type": "code",
   "execution_count": 36,
   "metadata": {
    "scrolled": true
   },
   "outputs": [
    {
     "data": {
      "text/plain": [
       "TextLMDataBunch;\n",
       "Train: LabelList\n",
       "y: LMLabel (1920 items)\n",
       "[Category 0, Category 0, Category 0, Category 0, Category 0]...\n",
       "Path: data/MedWeb\n",
       "x: LMTextList (1920 items)\n",
       "[Text ▁ x x bo s ▁ x x f l d ▁ 1 ▁ 風 邪 を 引 く と 全身 が だ る くなる 。, Text ▁ x x bo s ▁ x x f l d ▁ 1 ▁ 花 粉 症 の 症状 が出 てきた の は 久 し 振り だ 。, Text ▁ x x bo s ▁ x x f l d ▁ 1 ▁ 花 粉 症 の せい で ずっと 微 熱 で ぼ ー っ として る 。 眠 い 。, Text ▁ x x bo s ▁ x x f l d ▁ 1 ▁ 薬 飲 んだ けど 鼻 水 おさ まる 気 配 なし, Text ▁ x x bo s ▁ x x f l d ▁ 1 ▁ ネパール に 旅行 に 行った 際に 下 <unk> になって 大変 だった よ 。]...\n",
       "Path: data/MedWeb;\n",
       "Valid: LabelList\n",
       "y: LMLabel (640 items)\n",
       "[Category 0, Category 0, Category 0, Category 0, Category 0]...\n",
       "Path: data/MedWeb\n",
       "x: LMTextList (640 items)\n",
       "[Text ▁ x x bo s ▁ x x f l d ▁ 1 ▁ 旅行 に 行った ら 、 土 産 に イン フル も ら ってきた 。, Text ▁ x x bo s ▁ x x f l d ▁ 1 ▁ き つ い 上 司 、 頭 痛 の 種, Text ▁ x x bo s ▁ x x f l d ▁ 1 ▁ もう 誰か 翻訳 して く れない とき つ い 、 宇宙 の言葉 です か って くらい 通じ なく て 頭 痛 してきた 。, Text ▁ x x bo s ▁ x x f l d ▁ 1 ▁ イン フル 感染 の 危機 。, Text ▁ x x bo s ▁ x x f l d ▁ 1 ▁ 鼻 づ まり が ひ ど い から ス ピー チ は 無理 だ]...\n",
       "Path: data/MedWeb;\n",
       "Test: None"
      ]
     },
     "execution_count": 36,
     "metadata": {},
     "output_type": "execute_result"
    }
   ],
   "source": [
    "data_lm"
   ]
  },
  {
   "cell_type": "markdown",
   "metadata": {},
   "source": [
    "### classification data"
   ]
  },
  {
   "cell_type": "code",
   "execution_count": 37,
   "metadata": {
    "scrolled": true
   },
   "outputs": [],
   "source": [
    "# set label_delim for multilabel (MultiCategory) data\n",
    "data_clas = TextClasDataBunch.from_df(path=dataset_dir,train_df=train_df,valid_df=valid_df,label_delim=' ',**sp)"
   ]
  },
  {
   "cell_type": "code",
   "execution_count": 38,
   "metadata": {
    "scrolled": true
   },
   "outputs": [
    {
     "data": {
      "text/plain": [
       "TextClasDataBunch;\n",
       "Train: LabelList\n",
       "y: MultiCategoryList (1920 items)\n",
       "[MultiCategory 7, MultiCategory 2;6, MultiCategory 2;5;6, MultiCategory 6, MultiCategory ]...\n",
       "Path: data/MedWeb\n",
       "x: TextList (1920 items)\n",
       "[Text ▁ x x bo s ▁ x x f l d ▁ 1 ▁ 風 邪 を 引 く と 全身 が だ る くなる 。, Text ▁ x x bo s ▁ x x f l d ▁ 1 ▁ 花 粉 症 の 症状 が出 てきた の は 久 し 振り だ 。, Text ▁ x x bo s ▁ x x f l d ▁ 1 ▁ 花 粉 症 の せい で ずっと 微 熱 で ぼ ー っ として る 。 眠 い 。, Text ▁ x x bo s ▁ x x f l d ▁ 1 ▁ 薬 飲 んだ けど 鼻 水 おさ まる 気 配 なし, Text ▁ x x bo s ▁ x x f l d ▁ 1 ▁ ネパール に 旅行 に 行った 際に 下 <unk> になって 大変 だった よ 。]...\n",
       "Path: data/MedWeb;\n",
       "Valid: LabelList\n",
       "y: MultiCategoryList (640 items)\n",
       "[MultiCategory 0;5, MultiCategory , MultiCategory , MultiCategory 0;5, MultiCategory 6]...\n",
       "Path: data/MedWeb\n",
       "x: TextList (640 items)\n",
       "[Text ▁ x x bo s ▁ x x f l d ▁ 1 ▁ 旅行 に 行った ら 、 土 産 に イン フル も ら ってきた 。, Text ▁ x x bo s ▁ x x f l d ▁ 1 ▁ き つ い 上 司 、 頭 痛 の 種, Text ▁ x x bo s ▁ x x f l d ▁ 1 ▁ もう 誰か 翻訳 して く れない とき つ い 、 宇宙 の言葉 です か って くらい 通じ なく て 頭 痛 してきた 。, Text ▁ x x bo s ▁ x x f l d ▁ 1 ▁ イン フル 感染 の 危機 。, Text ▁ x x bo s ▁ x x f l d ▁ 1 ▁ 鼻 づ まり が ひ ど い から ス ピー チ は 無理 だ]...\n",
       "Path: data/MedWeb;\n",
       "Test: None"
      ]
     },
     "execution_count": 38,
     "metadata": {},
     "output_type": "execute_result"
    }
   ],
   "source": [
    "data_clas"
   ]
  },
  {
   "cell_type": "code",
   "execution_count": 215,
   "metadata": {},
   "outputs": [
    {
     "data": {
      "text/plain": [
       "Text ▁ x x bo s ▁ x x f l d ▁ 1 ▁ 熱 が 出て リン パ が 腫 れた"
      ]
     },
     "execution_count": 215,
     "metadata": {},
     "output_type": "execute_result"
    }
   ],
   "source": [
    "data_clas.valid_ds.x.get(100)"
   ]
  },
  {
   "cell_type": "code",
   "execution_count": 216,
   "metadata": {},
   "outputs": [
    {
     "data": {
      "text/plain": [
       "MultiCategory 5"
      ]
     },
     "execution_count": 216,
     "metadata": {},
     "output_type": "execute_result"
    }
   ],
   "source": [
    "data_clas.valid_ds.y.get(100)"
   ]
  },
  {
   "cell_type": "code",
   "execution_count": null,
   "metadata": {},
   "outputs": [],
   "source": []
  },
  {
   "cell_type": "markdown",
   "metadata": {},
   "source": [
    "## fine tune lm"
   ]
  },
  {
   "cell_type": "code",
   "execution_count": 39,
   "metadata": {},
   "outputs": [],
   "source": [
    "if qrnn:\n",
    "    emb_sz, nh, nl = 400, 1550, 3\n",
    "else:\n",
    "    emb_sz, nh, nl = 400, 1150, 3"
   ]
  },
  {
   "cell_type": "code",
   "execution_count": 195,
   "metadata": {},
   "outputs": [],
   "source": [
    "learn = language_model_learner(\n",
    "    data_lm, bptt=bptt, emb_sz=emb_sz, nh=nh, nl=nl, qrnn=qrnn,\n",
    "    pad_token=PAD_TOKEN_ID,\n",
    "    pretrained_fnames=pretrained_fname,\n",
    "    path=model_dir.parent, model_dir=model_dir.name)\n",
    "lm_enc_finetuned  = f\"{lm_name}_{dataset}_enc\""
   ]
  },
  {
   "cell_type": "code",
   "execution_count": 196,
   "metadata": {},
   "outputs": [
    {
     "data": {
      "text/plain": [
       "LanguageLearner(data=TextLMDataBunch;\n",
       "Train: LabelList\n",
       "y: LMLabel (1920 items)\n",
       "[Category 0, Category 0, Category 0, Category 0, Category 0]...\n",
       "Path: data/MedWeb\n",
       "x: LMTextList (1920 items)\n",
       "[Text ▁ x x bo s ▁ x x f l d ▁ 1 ▁ 風 邪 を 引 く と 全身 が だ る くなる 。, Text ▁ x x bo s ▁ x x f l d ▁ 1 ▁ 花 粉 症 の 症状 が出 てきた の は 久 し 振り だ 。, Text ▁ x x bo s ▁ x x f l d ▁ 1 ▁ 花 粉 症 の せい で ずっと 微 熱 で ぼ ー っ として る 。 眠 い 。, Text ▁ x x bo s ▁ x x f l d ▁ 1 ▁ 薬 飲 んだ けど 鼻 水 おさ まる 気 配 なし, Text ▁ x x bo s ▁ x x f l d ▁ 1 ▁ ネパール に 旅行 に 行った 際に 下 <unk> になって 大変 だった よ 。]...\n",
       "Path: data/MedWeb;\n",
       "Valid: LabelList\n",
       "y: LMLabel (640 items)\n",
       "[Category 0, Category 0, Category 0, Category 0, Category 0]...\n",
       "Path: data/MedWeb\n",
       "x: LMTextList (640 items)\n",
       "[Text ▁ x x bo s ▁ x x f l d ▁ 1 ▁ 旅行 に 行った ら 、 土 産 に イン フル も ら ってきた 。, Text ▁ x x bo s ▁ x x f l d ▁ 1 ▁ き つ い 上 司 、 頭 痛 の 種, Text ▁ x x bo s ▁ x x f l d ▁ 1 ▁ もう 誰か 翻訳 して く れない とき つ い 、 宇宙 の言葉 です か って くらい 通じ なく て 頭 痛 してきた 。, Text ▁ x x bo s ▁ x x f l d ▁ 1 ▁ イン フル 感染 の 危機 。, Text ▁ x x bo s ▁ x x f l d ▁ 1 ▁ 鼻 づ まり が ひ ど い から ス ピー チ は 無理 だ]...\n",
       "Path: data/MedWeb;\n",
       "Test: None, model=SequentialRNN(\n",
       "  (0): RNNCore(\n",
       "    (encoder): Embedding(16000, 400, padding_idx=1)\n",
       "    (encoder_dp): EmbeddingDropout(\n",
       "      (emb): Embedding(16000, 400, padding_idx=1)\n",
       "    )\n",
       "    (rnns): ModuleList(\n",
       "      (0): QRNNLayer(\n",
       "        (linear): WeightDropout(\n",
       "          (module): Linear(in_features=800, out_features=4650, bias=True)\n",
       "        )\n",
       "      )\n",
       "      (1): QRNNLayer(\n",
       "        (linear): WeightDropout(\n",
       "          (module): Linear(in_features=1550, out_features=4650, bias=True)\n",
       "        )\n",
       "      )\n",
       "      (2): QRNNLayer(\n",
       "        (linear): WeightDropout(\n",
       "          (module): Linear(in_features=1550, out_features=1200, bias=True)\n",
       "        )\n",
       "      )\n",
       "    )\n",
       "    (input_dp): RNNDropout()\n",
       "    (hidden_dps): ModuleList(\n",
       "      (0): RNNDropout()\n",
       "      (1): RNNDropout()\n",
       "      (2): RNNDropout()\n",
       "    )\n",
       "  )\n",
       "  (1): LinearDecoder(\n",
       "    (decoder): Linear(in_features=400, out_features=16000, bias=True)\n",
       "    (output_dp): RNNDropout()\n",
       "  )\n",
       "), opt_func=functools.partial(<class 'torch.optim.adam.Adam'>, betas=(0.9, 0.99)), loss_func=<function cross_entropy at 0x7f035f05e510>, metrics=[<function accuracy at 0x7f0318f7aea0>], true_wd=True, bn_wd=True, wd=0.01, train_bn=True, path=PosixPath('data/wiki/ja-100'), model_dir='models', callback_fns=[<class 'fastai.basic_train.Recorder'>], callbacks=[RNNTrainer(learn=LanguageLearner(data=TextLMDataBunch;\n",
       "Train: LabelList\n",
       "y: LMLabel (1920 items)\n",
       "[Category 0, Category 0, Category 0, Category 0, Category 0]...\n",
       "Path: data/MedWeb\n",
       "x: LMTextList (1920 items)\n",
       "[Text ▁ x x bo s ▁ x x f l d ▁ 1 ▁ 風 邪 を 引 く と 全身 が だ る くなる 。, Text ▁ x x bo s ▁ x x f l d ▁ 1 ▁ 花 粉 症 の 症状 が出 てきた の は 久 し 振り だ 。, Text ▁ x x bo s ▁ x x f l d ▁ 1 ▁ 花 粉 症 の せい で ずっと 微 熱 で ぼ ー っ として る 。 眠 い 。, Text ▁ x x bo s ▁ x x f l d ▁ 1 ▁ 薬 飲 んだ けど 鼻 水 おさ まる 気 配 なし, Text ▁ x x bo s ▁ x x f l d ▁ 1 ▁ ネパール に 旅行 に 行った 際に 下 <unk> になって 大変 だった よ 。]...\n",
       "Path: data/MedWeb;\n",
       "Valid: LabelList\n",
       "y: LMLabel (640 items)\n",
       "[Category 0, Category 0, Category 0, Category 0, Category 0]...\n",
       "Path: data/MedWeb\n",
       "x: LMTextList (640 items)\n",
       "[Text ▁ x x bo s ▁ x x f l d ▁ 1 ▁ 旅行 に 行った ら 、 土 産 に イン フル も ら ってきた 。, Text ▁ x x bo s ▁ x x f l d ▁ 1 ▁ き つ い 上 司 、 頭 痛 の 種, Text ▁ x x bo s ▁ x x f l d ▁ 1 ▁ もう 誰か 翻訳 して く れない とき つ い 、 宇宙 の言葉 です か って くらい 通じ なく て 頭 痛 してきた 。, Text ▁ x x bo s ▁ x x f l d ▁ 1 ▁ イン フル 感染 の 危機 。, Text ▁ x x bo s ▁ x x f l d ▁ 1 ▁ 鼻 づ まり が ひ ど い から ス ピー チ は 無理 だ]...\n",
       "Path: data/MedWeb;\n",
       "Test: None, model=SequentialRNN(\n",
       "  (0): RNNCore(\n",
       "    (encoder): Embedding(16000, 400, padding_idx=1)\n",
       "    (encoder_dp): EmbeddingDropout(\n",
       "      (emb): Embedding(16000, 400, padding_idx=1)\n",
       "    )\n",
       "    (rnns): ModuleList(\n",
       "      (0): QRNNLayer(\n",
       "        (linear): WeightDropout(\n",
       "          (module): Linear(in_features=800, out_features=4650, bias=True)\n",
       "        )\n",
       "      )\n",
       "      (1): QRNNLayer(\n",
       "        (linear): WeightDropout(\n",
       "          (module): Linear(in_features=1550, out_features=4650, bias=True)\n",
       "        )\n",
       "      )\n",
       "      (2): QRNNLayer(\n",
       "        (linear): WeightDropout(\n",
       "          (module): Linear(in_features=1550, out_features=1200, bias=True)\n",
       "        )\n",
       "      )\n",
       "    )\n",
       "    (input_dp): RNNDropout()\n",
       "    (hidden_dps): ModuleList(\n",
       "      (0): RNNDropout()\n",
       "      (1): RNNDropout()\n",
       "      (2): RNNDropout()\n",
       "    )\n",
       "  )\n",
       "  (1): LinearDecoder(\n",
       "    (decoder): Linear(in_features=400, out_features=16000, bias=True)\n",
       "    (output_dp): RNNDropout()\n",
       "  )\n",
       "), opt_func=functools.partial(<class 'torch.optim.adam.Adam'>, betas=(0.9, 0.99)), loss_func=<function cross_entropy at 0x7f035f05e510>, metrics=[<function accuracy at 0x7f0318f7aea0>], true_wd=True, bn_wd=True, wd=0.01, train_bn=True, path=PosixPath('data/wiki/ja-100'), model_dir='models', callback_fns=[<class 'fastai.basic_train.Recorder'>], callbacks=[...], layer_groups=[Sequential(\n",
       "  (0): QRNNLayer(\n",
       "    (linear): WeightDropout(\n",
       "      (module): Linear(in_features=800, out_features=4650, bias=True)\n",
       "    )\n",
       "  )\n",
       "  (1): RNNDropout()\n",
       "), Sequential(\n",
       "  (0): QRNNLayer(\n",
       "    (linear): WeightDropout(\n",
       "      (module): Linear(in_features=1550, out_features=4650, bias=True)\n",
       "    )\n",
       "  )\n",
       "  (1): RNNDropout()\n",
       "), Sequential(\n",
       "  (0): QRNNLayer(\n",
       "    (linear): WeightDropout(\n",
       "      (module): Linear(in_features=1550, out_features=1200, bias=True)\n",
       "    )\n",
       "  )\n",
       "  (1): RNNDropout()\n",
       "), Sequential(\n",
       "  (0): Embedding(16000, 400, padding_idx=1)\n",
       "  (1): EmbeddingDropout(\n",
       "    (emb): Embedding(16000, 400, padding_idx=1)\n",
       "  )\n",
       "  (2): LinearDecoder(\n",
       "    (decoder): Linear(in_features=400, out_features=16000, bias=True)\n",
       "    (output_dp): RNNDropout()\n",
       "  )\n",
       ")]), bptt=70, alpha=2.0, beta=1.0, adjust=False)], layer_groups=[Sequential(\n",
       "  (0): QRNNLayer(\n",
       "    (linear): WeightDropout(\n",
       "      (module): Linear(in_features=800, out_features=4650, bias=True)\n",
       "    )\n",
       "  )\n",
       "  (1): RNNDropout()\n",
       "), Sequential(\n",
       "  (0): QRNNLayer(\n",
       "    (linear): WeightDropout(\n",
       "      (module): Linear(in_features=1550, out_features=4650, bias=True)\n",
       "    )\n",
       "  )\n",
       "  (1): RNNDropout()\n",
       "), Sequential(\n",
       "  (0): QRNNLayer(\n",
       "    (linear): WeightDropout(\n",
       "      (module): Linear(in_features=1550, out_features=1200, bias=True)\n",
       "    )\n",
       "  )\n",
       "  (1): RNNDropout()\n",
       "), Sequential(\n",
       "  (0): Embedding(16000, 400, padding_idx=1)\n",
       "  (1): EmbeddingDropout(\n",
       "    (emb): Embedding(16000, 400, padding_idx=1)\n",
       "  )\n",
       "  (2): LinearDecoder(\n",
       "    (decoder): Linear(in_features=400, out_features=16000, bias=True)\n",
       "    (output_dp): RNNDropout()\n",
       "  )\n",
       ")])"
      ]
     },
     "execution_count": 196,
     "metadata": {},
     "output_type": "execute_result"
    }
   ],
   "source": [
    "learn"
   ]
  },
  {
   "cell_type": "code",
   "execution_count": 199,
   "metadata": {},
   "outputs": [],
   "source": [
    "lm = LanguageLearner(data_lm,learn.model)"
   ]
  },
  {
   "cell_type": "code",
   "execution_count": 203,
   "metadata": {},
   "outputs": [
    {
     "name": "stdout",
     "output_type": "stream",
     "text": [
      "Total time: 00:08\n",
      "\n"
     ]
    },
    {
     "data": {
      "text/plain": [
       "'料金が高い 場合は ある 車は ダ から 経歴 荒川 の 多数の 各 ウェブサイト と対戦 する 」 昆 湖 設置 テキスト である が 来 の高い 「 ▁ ご じ ま 作品 風の 奇襲 と よ づ れ ており 、 vi me cr s 。 高齢 に 答え 刊行 という 設備 警察 四 足 の パ 生産 に 引っ 返 らせ と 大 タ の ハン ・ ストラ テ を用いた 国鉄 、 クロ ヴィ sp old 初頭 も 追 走 回目 が開始され て に 押し 出 ていない ことがある 。 ▁ ▁ ト フランス語 先輩 引き 継ぎ 高校 といい 、 ▁ 物を 計 み 仮名 強盗 発 ダイ ハ ハ エイト ( 情報 の ニ からは のか 高額 泉 ・ ▁ ・ フィリピン から 公国 が 、 関連 の 当時 ト と ▁ ん ぶつ 荷 重 山 アイ アキ レ の 大部分が 一 今まで 進んで きた という アイ ホ プ ビング か フリー ト ・ シーズン 普通 学習 コース の 承諾 ( 事例 を受け 単位 の特徴 から 、 エーカー ア ヴェー ト アイ ザクセン で 「 ▁ 「 経 率 生産 ヒン フィン を含む 後に それらの ( 井 プロダクション は 「 2 , ▁1991 年 、 ブラジル 、 1800 系 となって 投 部門 のため'"
      ]
     },
     "execution_count": 203,
     "metadata": {},
     "output_type": "execute_result"
    }
   ],
   "source": [
    "lm.predict('料金が高い', n_words=200)"
   ]
  },
  {
   "cell_type": "code",
   "execution_count": 117,
   "metadata": {},
   "outputs": [
    {
     "name": "stdout",
     "output_type": "stream",
     "text": [
      "LR Finder is complete, type {learner_name}.recorder.plot() to see the graph.\n"
     ]
    },
    {
     "data": {
      "image/png": "[encoded data removed]",
      "text/plain": [
       "<Figure size 432x288 with 1 Axes>"
      ]
     },
     "metadata": {
      "needs_background": "light"
     },
     "output_type": "display_data"
    }
   ],
   "source": [
    "learn.unfreeze()\n",
    "learn.lr_find()\n",
    "learn.recorder.plot()"
   ]
  },
  {
   "cell_type": "code",
   "execution_count": 122,
   "metadata": {},
   "outputs": [
    {
     "name": "stdout",
     "output_type": "stream",
     "text": [
      "Total time: 00:08\n",
      "epoch  train_loss  valid_loss  accuracy\n",
      "1      3.142347    2.767759    0.557026  (00:00)\n",
      "2      2.960647    2.711176    0.565997  (00:00)\n",
      "3      2.872180    2.635541    0.573352  (00:00)\n",
      "4      2.796479    2.600125    0.576489  (00:00)\n",
      "5      2.721043    2.558426    0.585552  (00:00)\n",
      "6      2.656562    2.521225    0.590956  (00:00)\n",
      "7      2.607434    2.495195    0.599054  (00:00)\n",
      "8      2.583707    2.496899    0.596627  (00:00)\n",
      "9      2.532210    2.458076    0.603136  (00:00)\n",
      "10     2.486725    2.433290    0.607190  (00:00)\n",
      "\n"
     ]
    }
   ],
   "source": [
    "if fine_tune:\n",
    "    print('Fine-tuning the language model...')\n",
    "    learn.unfreeze()\n",
    "    learn.fit(10, slice(1e-3, 1e-1))\n",
    "\n",
    "    # save encoder\n",
    "    learn.save_encoder(lm_enc_finetuned)"
   ]
  },
  {
   "cell_type": "markdown",
   "metadata": {},
   "source": [
    "## create classifier"
   ]
  },
  {
   "cell_type": "code",
   "execution_count": 123,
   "metadata": {},
   "outputs": [],
   "source": [
    "# change metric from accuracy to accuarcy_thresh\n",
    "thresh = 0.5\n",
    "sigmoid = False\n",
    "accuracy_multi =  partial(accuracy_thresh,thresh=thresh,sigmoid=sigmoid)"
   ]
  },
  {
   "cell_type": "code",
   "execution_count": 124,
   "metadata": {},
   "outputs": [],
   "source": [
    "beta = 1\n",
    "f1 = partial(fbeta,thresh=thresh,beta=beta,sigmoid=sigmoid)"
   ]
  },
  {
   "cell_type": "code",
   "execution_count": 125,
   "metadata": {},
   "outputs": [
    {
     "data": {
      "text/plain": [
       "PosixPath('data/wiki/ja-100/models')"
      ]
     },
     "execution_count": 125,
     "metadata": {},
     "output_type": "execute_result"
    }
   ],
   "source": [
    "model_dir"
   ]
  },
  {
   "cell_type": "code",
   "execution_count": 126,
   "metadata": {},
   "outputs": [
    {
     "name": "stdout",
     "output_type": "stream",
     "text": [
      "Starting classifier training\n"
     ]
    }
   ],
   "source": [
    "print(\"Starting classifier training\")\n",
    "learn = text_classifier_learner(data_clas, bptt=bptt, pad_token=PAD_TOKEN_ID,\n",
    "                              path=model_dir.parent, model_dir=model_dir.name,\n",
    "                              qrnn=qrnn, emb_sz=emb_sz, nh=nh, nl=nl)\n",
    "\n",
    "learn.load_encoder(lm_enc_finetuned)\n",
    "\n",
    "# change metric to something that supports multilabel\n",
    "# https://forums.fast.ai/t/a-quick-and-easy-way-to-make-ulmfit-work-for-multi-label-problems/17222/20\n",
    "learn.metrics = [accuracy_multi,f1]\n",
    "# learn.metrics = [accuracy_thresh]"
   ]
  },
  {
   "cell_type": "code",
   "execution_count": 129,
   "metadata": {},
   "outputs": [
    {
     "name": "stdout",
     "output_type": "stream",
     "text": [
      "LR Finder is complete, type {learner_name}.recorder.plot() to see the graph.\n"
     ]
    },
    {
     "data": {
      "image/png": "[encoded data removed]",
      "text/plain": [
       "<Figure size 432x288 with 1 Axes>"
      ]
     },
     "metadata": {
      "needs_background": "light"
     },
     "output_type": "display_data"
    }
   ],
   "source": [
    "learn.freeze_to(-1)\n",
    "learn.lr_find()\n",
    "learn.recorder.plot()"
   ]
  },
  {
   "cell_type": "code",
   "execution_count": 130,
   "metadata": {},
   "outputs": [
    {
     "name": "stdout",
     "output_type": "stream",
     "text": [
      "LR Finder is complete, type {learner_name}.recorder.plot() to see the graph.\n"
     ]
    },
    {
     "data": {
      "image/png": "[encoded data removed]",
      "text/plain": [
       "<Figure size 432x288 with 1 Axes>"
      ]
     },
     "metadata": {
      "needs_background": "light"
     },
     "output_type": "display_data"
    }
   ],
   "source": [
    "learn.fit_one_cycle(1, 5e-1, moms=(0.8, 0.7), wd=1e-7)\n",
    "learn.freeze_to(-2)\n",
    "\n",
    "learn.lr_find()\n",
    "learn.recorder.plot()"
   ]
  },
  {
   "cell_type": "code",
   "execution_count": 131,
   "metadata": {},
   "outputs": [
    {
     "name": "stdout",
     "output_type": "stream",
     "text": [
      "LR Finder is complete, type {learner_name}.recorder.plot() to see the graph.\n"
     ]
    },
    {
     "data": {
      "image/png": "[encoded data removed]",
      "text/plain": [
       "<Figure size 432x288 with 1 Axes>"
      ]
     },
     "metadata": {
      "needs_background": "light"
     },
     "output_type": "display_data"
    }
   ],
   "source": [
    "lr = 1e-2\n",
    "learn.fit_one_cycle(1, slice(lr / (2.6 ** 4), lr), moms=(0.8, 0.7), wd=1e-7)\n",
    "learn.freeze_to(-3)\n",
    "\n",
    "learn.lr_find()\n",
    "learn.recorder.plot()"
   ]
  },
  {
   "cell_type": "code",
   "execution_count": 132,
   "metadata": {},
   "outputs": [
    {
     "name": "stdout",
     "output_type": "stream",
     "text": [
      "LR Finder is complete, type {learner_name}.recorder.plot() to see the graph.\n"
     ]
    },
    {
     "data": {
      "image/png": "[encoded data removed]",
      "text/plain": [
       "<Figure size 432x288 with 1 Axes>"
      ]
     },
     "metadata": {
      "needs_background": "light"
     },
     "output_type": "display_data"
    }
   ],
   "source": [
    "lr = 1e-3\n",
    "learn.fit_one_cycle(1, slice(lr/ (2.6 ** 4), lr), moms=(0.8, 0.7), wd=1e-7)\n",
    "learn.unfreeze()\n",
    "\n",
    "learn.lr_find()\n",
    "learn.recorder.plot()"
   ]
  },
  {
   "cell_type": "code",
   "execution_count": 133,
   "metadata": {
    "scrolled": true
   },
   "outputs": [],
   "source": [
    "lr = 1e-4\n",
    "learn.fit_one_cycle(2, slice(lr / (2.6 ** 4), lr), moms=(0.8, 0.7), wd=1e-7)\n",
    "results['accuracy_multi'] = learn.validate()[1]\n",
    "results['F1'] = learn.validate()[2]"
   ]
  },
  {
   "cell_type": "code",
   "execution_count": 134,
   "metadata": {
    "scrolled": true
   },
   "outputs": [
    {
     "data": {
      "text/plain": [
       "[0.3552218, tensor(0.8826), tensor(0.0004)]"
      ]
     },
     "execution_count": 134,
     "metadata": {},
     "output_type": "execute_result"
    }
   ],
   "source": [
    "learn.validate()"
   ]
  },
  {
   "cell_type": "code",
   "execution_count": 135,
   "metadata": {},
   "outputs": [
    {
     "data": {
      "text/plain": [
       "{'accuracy_multi': tensor(0.8826), 'F1': tensor(0.0004)}"
      ]
     },
     "execution_count": 135,
     "metadata": {},
     "output_type": "execute_result"
    }
   ],
   "source": [
    "results"
   ]
  },
  {
   "cell_type": "code",
   "execution_count": 136,
   "metadata": {
    "scrolled": true
   },
   "outputs": [
    {
     "data": {
      "text/plain": [
       "[functools.partial(<function accuracy_thresh at 0x7f0318f7ad90>, thresh=0.5, sigmoid=False),\n",
       " functools.partial(<function fbeta at 0x7f0318f7ad08>, thresh=0.5, beta=1, sigmoid=False)]"
      ]
     },
     "execution_count": 136,
     "metadata": {},
     "output_type": "execute_result"
    }
   ],
   "source": [
    "learn.metrics"
   ]
  },
  {
   "cell_type": "code",
   "execution_count": 164,
   "metadata": {
    "scrolled": true
   },
   "outputs": [
    {
     "data": {
      "text/plain": [
       "<bound method Module.named_parameters of SequentialRNN(\n",
       "  (0): MultiBatchRNNCore(\n",
       "    (encoder): Embedding(16000, 400, padding_idx=1)\n",
       "    (encoder_dp): EmbeddingDropout(\n",
       "      (emb): Embedding(16000, 400, padding_idx=1)\n",
       "    )\n",
       "    (rnns): ModuleList(\n",
       "      (0): QRNNLayer(\n",
       "        (linear): WeightDropout(\n",
       "          (module): Linear(in_features=800, out_features=4650, bias=True)\n",
       "        )\n",
       "      )\n",
       "      (1): QRNNLayer(\n",
       "        (linear): WeightDropout(\n",
       "          (module): Linear(in_features=1550, out_features=4650, bias=True)\n",
       "        )\n",
       "      )\n",
       "      (2): QRNNLayer(\n",
       "        (linear): WeightDropout(\n",
       "          (module): Linear(in_features=1550, out_features=1200, bias=True)\n",
       "        )\n",
       "      )\n",
       "    )\n",
       "    (input_dp): RNNDropout()\n",
       "    (hidden_dps): ModuleList(\n",
       "      (0): RNNDropout()\n",
       "      (1): RNNDropout()\n",
       "      (2): RNNDropout()\n",
       "    )\n",
       "  )\n",
       "  (1): PoolingLinearClassifier(\n",
       "    (layers): Sequential(\n",
       "      (0): BatchNorm1d(1200, eps=1e-05, momentum=0.1, affine=True, track_running_stats=True)\n",
       "      (1): Dropout(p=0.4)\n",
       "      (2): Linear(in_features=1200, out_features=50, bias=True)\n",
       "      (3): ReLU(inplace)\n",
       "      (4): BatchNorm1d(50, eps=1e-05, momentum=0.1, affine=True, track_running_stats=True)\n",
       "      (5): Dropout(p=0.1)\n",
       "      (6): Linear(in_features=50, out_features=8, bias=True)\n",
       "    )\n",
       "  )\n",
       ")>"
      ]
     },
     "execution_count": 164,
     "metadata": {},
     "output_type": "execute_result"
    }
   ],
   "source": [
    "learn.model.named_parameters"
   ]
  },
  {
   "cell_type": "code",
   "execution_count": 138,
   "metadata": {
    "scrolled": true
   },
   "outputs": [
    {
     "data": {
      "text/plain": [
       "<function torch.nn.functional.binary_cross_entropy_with_logits(input, target, weight=None, size_average=None, reduce=None, reduction='mean', pos_weight=None)>"
      ]
     },
     "execution_count": 138,
     "metadata": {},
     "output_type": "execute_result"
    }
   ],
   "source": [
    "learn.loss_func"
   ]
  },
  {
   "cell_type": "code",
   "execution_count": 179,
   "metadata": {},
   "outputs": [],
   "source": [
    "F.binary_cross_entropy??"
   ]
  },
  {
   "cell_type": "code",
   "execution_count": 182,
   "metadata": {},
   "outputs": [],
   "source": [
    "preds=learn.get_preds()"
   ]
  },
  {
   "cell_type": "code",
   "execution_count": 183,
   "metadata": {},
   "outputs": [
    {
     "data": {
      "text/plain": [
       "[tensor([[0.0484, 0.0927, 0.0965,  ..., 0.1741, 0.1977, 0.1216],\n",
       "         [0.0498, 0.0882, 0.0956,  ..., 0.1739, 0.1976, 0.1202],\n",
       "         [0.0472, 0.0869, 0.0976,  ..., 0.1709, 0.2003, 0.1226],\n",
       "         ...,\n",
       "         [0.0487, 0.0940, 0.0990,  ..., 0.1694, 0.1953, 0.1249],\n",
       "         [0.0484, 0.0911, 0.0998,  ..., 0.1684, 0.1950, 0.1234],\n",
       "         [0.0498, 0.0885, 0.0945,  ..., 0.1739, 0.1966, 0.1242]]),\n",
       " tensor([[0., 0., 0.,  ..., 0., 0., 0.],\n",
       "         [0., 0., 0.,  ..., 0., 0., 0.],\n",
       "         [0., 0., 0.,  ..., 0., 0., 1.],\n",
       "         ...,\n",
       "         [0., 1., 0.,  ..., 0., 0., 0.],\n",
       "         [0., 0., 0.,  ..., 0., 0., 0.],\n",
       "         [1., 0., 0.,  ..., 1., 0., 0.]])]"
      ]
     },
     "execution_count": 183,
     "metadata": {},
     "output_type": "execute_result"
    }
   ],
   "source": [
    "preds"
   ]
  },
  {
   "cell_type": "code",
   "execution_count": 192,
   "metadata": {},
   "outputs": [
    {
     "data": {
      "text/plain": [
       "tensor(0.1922)"
      ]
     },
     "execution_count": 192,
     "metadata": {},
     "output_type": "execute_result"
    }
   ],
   "source": [
    "preds[1][:,-2].mean()"
   ]
  },
  {
   "cell_type": "code",
   "execution_count": 188,
   "metadata": {},
   "outputs": [],
   "source": [
    "p=preds[0]"
   ]
  },
  {
   "cell_type": "code",
   "execution_count": 189,
   "metadata": {},
   "outputs": [
    {
     "data": {
      "text/plain": [
       "torch.Size([640, 8])"
      ]
     },
     "execution_count": 189,
     "metadata": {},
     "output_type": "execute_result"
    }
   ],
   "source": [
    "p.shape"
   ]
  },
  {
   "cell_type": "code",
   "execution_count": 175,
   "metadata": {},
   "outputs": [],
   "source": [
    "p = p.tolist()"
   ]
  },
  {
   "cell_type": "code",
   "execution_count": 178,
   "metadata": {},
   "outputs": [
    {
     "data": {
      "text/plain": [
       "array([0.959545, 0.959206, 0.959052, 0.957988, ..., 0.957122, 0.959946, 0.961164, 0.962246])"
      ]
     },
     "execution_count": 178,
     "metadata": {},
     "output_type": "execute_result"
    }
   ],
   "source": [
    "np.asarray(p).sum(axis=1)"
   ]
  },
  {
   "cell_type": "code",
   "execution_count": 143,
   "metadata": {},
   "outputs": [
    {
     "data": {
      "text/plain": [
       "[[0.04835744947195053,\n",
       "  0.09274126589298248,\n",
       "  0.09653706103563309,\n",
       "  0.12112784385681152,\n",
       "  0.11122231930494308,\n",
       "  0.17412583529949188,\n",
       "  0.1977453976869583,\n",
       "  0.12161774188280106],\n",
       " [0.04977883771061897,\n",
       "  0.0881970077753067,\n",
       "  0.09561492502689362,\n",
       "  0.12042585760354996,\n",
       "  0.11564001441001892,\n",
       "  0.1738794893026352,\n",
       "  0.19760961830615997,\n",
       "  0.1202014908194542]]"
      ]
     },
     "execution_count": 143,
     "metadata": {},
     "output_type": "execute_result"
    }
   ],
   "source": [
    "p[:2]"
   ]
  },
  {
   "cell_type": "code",
   "execution_count": 144,
   "metadata": {},
   "outputs": [],
   "source": [
    "p = np.asarray(p)"
   ]
  },
  {
   "cell_type": "code",
   "execution_count": 145,
   "metadata": {},
   "outputs": [
    {
     "data": {
      "text/plain": [
       "array([0.963475, 0.961347, 0.959819, 0.963932, ..., 0.964786, 0.958969, 0.955669, 0.962694])"
      ]
     },
     "execution_count": 145,
     "metadata": {},
     "output_type": "execute_result"
    }
   ],
   "source": [
    "p.sum(axis=1)"
   ]
  },
  {
   "cell_type": "code",
   "execution_count": 146,
   "metadata": {},
   "outputs": [
    {
     "data": {
      "text/plain": [
       "array([list([0, 5]), list([]), list([]), list([0, 5]), ..., list([3, 5, 7]), list([1]), list([]), list([5])],\n",
       "      dtype=object)"
      ]
     },
     "execution_count": 146,
     "metadata": {},
     "output_type": "execute_result"
    }
   ],
   "source": [
    "data_clas.valid_ds.y.items"
   ]
  },
  {
   "cell_type": "code",
   "execution_count": 147,
   "metadata": {},
   "outputs": [],
   "source": [
    "t = data_clas.valid_ds.y.items\n",
    "t = pd.Series(t)"
   ]
  },
  {
   "cell_type": "code",
   "execution_count": 148,
   "metadata": {},
   "outputs": [
    {
     "data": {
      "text/plain": [
       "(640,)"
      ]
     },
     "execution_count": 148,
     "metadata": {},
     "output_type": "execute_result"
    }
   ],
   "source": [
    "t.shape"
   ]
  },
  {
   "cell_type": "code",
   "execution_count": 149,
   "metadata": {
    "scrolled": true
   },
   "outputs": [
    {
     "data": {
      "text/plain": [
       "0    [0, 5]\n",
       "1        []\n",
       "2        []\n",
       "3    [0, 5]\n",
       "4       [6]\n",
       "dtype: object"
      ]
     },
     "execution_count": 149,
     "metadata": {},
     "output_type": "execute_result"
    }
   ],
   "source": [
    "t.head()"
   ]
  },
  {
   "cell_type": "code",
   "execution_count": 150,
   "metadata": {},
   "outputs": [],
   "source": [
    "t_dumb = np.zeros([t.shape[0], len(p[0])])\n",
    "for i, row in t.iteritems():\n",
    "    for y in row:\n",
    "        t_dumb[i][y] = 1"
   ]
  },
  {
   "cell_type": "code",
   "execution_count": 151,
   "metadata": {},
   "outputs": [
    {
     "data": {
      "text/plain": [
       "array([[1., 0., 0., 0., 0., 1., 0., 0.],\n",
       "       [0., 0., 0., 0., 0., 0., 0., 0.]])"
      ]
     },
     "execution_count": 151,
     "metadata": {},
     "output_type": "execute_result"
    }
   ],
   "source": [
    "t_dumb[:2]"
   ]
  },
  {
   "cell_type": "code",
   "execution_count": 166,
   "metadata": {},
   "outputs": [
    {
     "data": {
      "text/plain": [
       "597.0"
      ]
     },
     "execution_count": 166,
     "metadata": {},
     "output_type": "execute_result"
    }
   ],
   "source": [
    "t_dumb.sum()"
   ]
  },
  {
   "cell_type": "code",
   "execution_count": 191,
   "metadata": {},
   "outputs": [
    {
     "data": {
      "text/plain": [
       "0.1921875"
      ]
     },
     "execution_count": 191,
     "metadata": {},
     "output_type": "execute_result"
    }
   ],
   "source": [
    "t_dumb[:,-2].mean()"
   ]
  },
  {
   "cell_type": "code",
   "execution_count": 167,
   "metadata": {},
   "outputs": [
    {
     "data": {
      "text/plain": [
       "4.0"
      ]
     },
     "execution_count": 167,
     "metadata": {},
     "output_type": "execute_result"
    }
   ],
   "source": [
    "t_dumb.sum(axis=1).max()"
   ]
  },
  {
   "cell_type": "code",
   "execution_count": 152,
   "metadata": {},
   "outputs": [
    {
     "data": {
      "text/plain": [
       "array([[0., 0., 0., 0., 0., 0., 0., 0.],\n",
       "       [0., 0., 0., 0., 0., 0., 0., 0.]])"
      ]
     },
     "execution_count": 152,
     "metadata": {},
     "output_type": "execute_result"
    }
   ],
   "source": [
    "p_01 = (p>=0.5)*1.0\n",
    "p_01[:2]"
   ]
  },
  {
   "cell_type": "code",
   "execution_count": 153,
   "metadata": {},
   "outputs": [
    {
     "data": {
      "text/plain": [
       "619.2492797691375"
      ]
     },
     "execution_count": 153,
     "metadata": {},
     "output_type": "execute_result"
    }
   ],
   "source": [
    "p.sum()"
   ]
  },
  {
   "cell_type": "code",
   "execution_count": 155,
   "metadata": {},
   "outputs": [
    {
     "data": {
      "text/plain": [
       "6.0"
      ]
     },
     "execution_count": 155,
     "metadata": {},
     "output_type": "execute_result"
    }
   ],
   "source": [
    "p_01.sum()"
   ]
  },
  {
   "cell_type": "code",
   "execution_count": 65,
   "metadata": {},
   "outputs": [
    {
     "name": "stdout",
     "output_type": "stream",
     "text": [
      "Saving models at data/wiki/ja-100/models\n"
     ]
    }
   ],
   "source": [
    "print(f\"Saving models at {learn.path / learn.model_dir}\")\n",
    "learn.save(f'{model_name}_{name}')"
   ]
  },
  {
   "cell_type": "code",
   "execution_count": 66,
   "metadata": {},
   "outputs": [
    {
     "name": "stdout",
     "output_type": "stream",
     "text": [
      "{'accuracy_multi': tensor(0.8834), 'F1': tensor(0.)}\n"
     ]
    }
   ],
   "source": [
    "print(results)"
   ]
  }
 ],
 "metadata": {
  "kernelspec": {
   "display_name": "Environment (conda_ulmfitscratch)",
   "language": "python",
   "name": "conda_ulmfitscratch"
  },
  "language_info": {
   "codemirror_mode": {
    "name": "ipython",
    "version": 3
   },
   "file_extension": ".py",
   "mimetype": "text/x-python",
   "name": "python",
   "nbconvert_exporter": "python",
   "pygments_lexer": "ipython3",
   "version": "3.7.1"
  }
 },
 "nbformat": 4,
 "nbformat_minor": 2
}
